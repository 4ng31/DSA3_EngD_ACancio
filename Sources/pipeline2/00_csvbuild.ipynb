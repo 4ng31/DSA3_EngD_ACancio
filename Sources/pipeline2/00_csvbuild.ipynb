{
 "cells": [
  {
   "cell_type": "code",
   "execution_count": 1,
   "metadata": {
    "ExecuteTime": {
     "end_time": "2017-11-03T14:31:37.847166Z",
     "start_time": "2017-11-03T14:31:37.814819Z"
    }
   },
   "outputs": [
    {
     "name": "stdout",
     "output_type": "stream",
     "text": [
      "/home/bgx/.mega2/Desarrollo/github/radsa/bin\n"
     ]
    }
   ],
   "source": [
    "DIR=%pwd\n",
    "%cd $DIR/github/radsa/bin/\n"
   ]
  },
  {
   "cell_type": "code",
   "execution_count": 1,
   "metadata": {
    "ExecuteTime": {
     "end_time": "2017-12-29T03:05:13.583919Z",
     "start_time": "2017-12-29T03:05:13.564740Z"
    }
   },
   "outputs": [
    {
     "name": "stdout",
     "output_type": "stream",
     "text": [
      "Writing \"00_csvbuild.py\"\n"
     ]
    }
   ],
   "source": [
    "%%writefile \"00_csvbuild.py\"\n",
    "import os, sys, gc\n",
    "import argparse\n",
    "import fileinput\n",
    "    \n",
    "def main(args):\n",
    "\n",
    "    f = fileinput.FileInput(args.schd, inplace=True, backup='.bak')\n",
    "    for line in f:\n",
    "        print line\n",
    "    f.close()\n",
    "    \n",
    "    with open(args.schd, 'r') as fp:\n",
    "        text=fp.read().replace('\\r', ' \\n')\n",
    "    \n",
    "    with open(args.schd, 'w') as fo:\n",
    "        fo.write(text)\n",
    "    \n",
    "    text=''\n",
    "    with open(args.schd, 'r') as fp:  \n",
    "        lines = fp.readlines()\n",
    "        for line in lines:\n",
    "            if not line.strip(): continue  # skip the empty line\n",
    "            line=line.replace('\\n','')\n",
    "            line=' '.join(line.split())\n",
    "            line=\"%s,%d,%d\\n\" % ( line.replace(' ', ','),arg.qbits,arg.fs )\n",
    "            text=text+line\n",
    "    \n",
    "    with open(args.schd, 'w') as fo:\n",
    "        fo.write(text)\n",
    "\n",
    "if __name__ == \"__main__\":\n",
    "\n",
    "    parser = argparse.ArgumentParser(description='Convert schedule to CSV.')\n",
    "    parser.add_argument('-s', '--schedule', dest='schd',type=str,\n",
    "                        help='Read schedule fiel.', required=True)\n",
    "    parser.add_argument('-q', '--quantization', dest='qbits',type=str,\n",
    "                        help='', required=True)\n",
    "    parser.add_argument('-f', '--frecquency', dest='fs',type=str,\n",
    "                        help='', required=True)\n",
    "\n",
    "    args = parser.parse_args()\n",
    "    main(args)"
   ]
  },
  {
   "cell_type": "code",
   "execution_count": null,
   "metadata": {
    "collapsed": true
   },
   "outputs": [],
   "source": []
  },
  {
   "cell_type": "code",
   "execution_count": null,
   "metadata": {
    "collapsed": true
   },
   "outputs": [],
   "source": []
  }
 ],
 "metadata": {
  "kernelspec": {
   "display_name": "Python 2",
   "language": "python",
   "name": "python2"
  },
  "language_info": {
   "codemirror_mode": {
    "name": "ipython",
    "version": 2
   },
   "file_extension": ".py",
   "mimetype": "text/x-python",
   "name": "python",
   "nbconvert_exporter": "python",
   "pygments_lexer": "ipython2",
   "version": "2.7.12"
  }
 },
 "nbformat": 4,
 "nbformat_minor": 2
}
