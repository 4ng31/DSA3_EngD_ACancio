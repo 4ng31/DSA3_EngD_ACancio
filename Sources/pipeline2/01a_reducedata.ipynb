{
 "cells": [
  {
   "cell_type": "code",
   "execution_count": 1,
   "metadata": {
    "ExecuteTime": {
     "end_time": "2017-11-03T17:45:33.608822Z",
     "start_time": "2017-11-03T17:45:33.526430Z"
    }
   },
   "outputs": [
    {
     "name": "stdout",
     "output_type": "stream",
     "text": [
      "/home/bgx/.mega2/Desarrollo/github/radsa/bin\n"
     ]
    }
   ],
   "source": [
    "DIR=%pwd\n",
    "%cd $DIR/github/radsa/bin/"
   ]
  },
  {
   "cell_type": "code",
   "execution_count": 1,
   "metadata": {
    "ExecuteTime": {
     "end_time": "2017-12-29T03:06:12.521448Z",
     "start_time": "2017-12-29T03:06:12.482780Z"
    }
   },
   "outputs": [
    {
     "name": "stdout",
     "output_type": "stream",
     "text": [
      "Writing \"01a_reducedata.py\"\n"
     ]
    }
   ],
   "source": [
    "%%writefile \"01a_reducedata.py\"\n",
    "\n",
    "import datetime\n",
    "import numpy as np\n",
    "import os\n",
    "import mmap\n",
    "import struct\n",
    "from bitstring import BitStream, ConstBitStream,Bits\n",
    "from bitstring import BitArray as bt\n",
    "from bitarray import bitarray as BitArray\n",
    "\n",
    "def readheader(BS,hprint=None):\n",
    "    \"\"\"Reads the header of a UNIX format raw data file.\n",
    "    Notes\n",
    "    =====\n",
    "    @param BS : byte stream\n",
    "    \"\"\"\n",
    "    \n",
    "    from bitstruct import unpack\n",
    "    \n",
    "    header={}\n",
    "    header[\"magic\"],header[\"recordlength\"],header[\"hdrlen\"],header[\"blocksize\"],\\\n",
    "    header[\"samplerate\"],header[\"cfegain\"],header[\"qu\"],header[\"msg\"],\\\n",
    "    header[\"frameid\"],header[\"version\"],header[\"timetag_samps\"],header[\"offsetfreq\"],\\\n",
    "    header[\"timetag_secs\"],header[\"subc\"],header[\"digitalgain\"],header[\"subchan0_offset\"],\\\n",
    "    header[\"subchan1_offset\"],header[\"subchan2_offset\"],header[\"subchan3_offset\"],\\\n",
    "    header[\"sweeprate\"],header[\"path_delay\"],header[\"gdspid\"],header[\"hs\"],\\\n",
    "    header[\"semr\"],header[\"sweepchange\"],header[\"ncov\"],header[\"ncoreset_c\"],\\\n",
    "    header[\"ncoreset_t\"],empty = unpack('>r32u16u8u8u16u10u3u3u32u7u25s32u17u4u11s32s32s32s32s32s32u8u1s12u11u1s11u20r128', BS)\n",
    "                  \n",
    "    if hprint:\n",
    "        import yaml\n",
    "        print(yaml.dump(header, default_flow_style=False))\n",
    "        \n",
    "    return header\n",
    "\n",
    "def copypost(src, dst, offset):\n",
    "    with open(src, 'rb') as fd:\n",
    "        mm = mmap.mmap(fd.fileno(), 0, prot=mmap.PROT_READ)\n",
    "        with open(dst, 'ab') as f2:\n",
    "            f2.write(mm[offset:])\n",
    "\n",
    "def copyprev(src,dst, offset):\n",
    "    with open(src, 'rb') as fd:\n",
    "        mm = mmap.mmap(fd.fileno(), 0, prot=mmap.PROT_READ)\n",
    "        with open(dst, 'ab') as f2:\n",
    "            f2.write(mm[0:offset])\n",
    "    \n",
    "def sec2time(sec, n_msec=3):\n",
    "    ''' Convert seconds to 'D days, HH:MM:SS.FFF' '''\n",
    "    if hasattr(sec,'__len__'):\n",
    "        return [sec2time(s) for s in sec]\n",
    "    m, s = divmod(sec, 60)\n",
    "    h, m = divmod(m, 60)\n",
    "    d, h = divmod(h, 24)\n",
    "    if n_msec > 0:\n",
    "        pattern = '%%02d:%%02d:%%0%d.%df' % (n_msec+3, n_msec)\n",
    "    else:\n",
    "        pattern = r'%02d:%02d:%02d'\n",
    "    if d == 0:\n",
    "        return pattern % (h, m, s)\n",
    "    return ('%d days, ' + pattern) % (d, h, m, s)\n",
    "\n",
    "\n",
    "def datareduce(schdtimes,filelist,filetimes,scannumber,output):\n",
    "\n",
    "    output=\"%s%s_scan_%04d.bin\" % (output, '_'.join((filelist[0].split('/')[-1]).split('_')[:-1]),scannumber)\n",
    "    print(filelist)\n",
    "    print(filetimes)\n",
    "    print(schdtimes)\n",
    "    print(output)\n",
    "    \n",
    "    for i in np.arange(2):\n",
    "        print 'ok'\n",
    "        with open(filelist[i]) as fd:\n",
    "            mm = mmap.mmap(fd.fileno(), 0, prot=mmap.PROT_READ)\n",
    "            header = readheader(mm[0:76],hprint=None)\n",
    "\n",
    "        fs=header[\"samplerate\"]\n",
    "        qu=header[\"qu\"]\n",
    "        \n",
    "        if qu == 5: #16-bits\n",
    "            nsamples=87\n",
    "        \n",
    "        freq=17500000./(fs)\n",
    "        timefilestart=filetimes[i]\n",
    "        filename=filelist[i]\n",
    "        \n",
    "        filesize=os.path.getsize(filename)\n",
    "        \n",
    "        blocksize=1468\n",
    "        N=float(filesize)/blocksize\n",
    "        T=1./freq\n",
    "        sec=T*nsamples*N\n",
    "        \n",
    "        ## Calculate end time file (next startimefie)\n",
    "        delta=datetime.timedelta(seconds=sec)\n",
    "        \n",
    "#         tschdstart=datetime.datetime.strptime(schdtimes[0],'%Y-%m-%d %H:%M:%S')\n",
    "        tschdstart=schdtimes[0]\n",
    "#         tschdend=datetime.datetime.strptime(schdtimes[1],'%Y-%m-%d %H:%M:%S')\n",
    "        tschdend=schdtimes[1]\n",
    "        \n",
    "#         tfilestart=datetime.datetime.strptime(timefilestart,'%Y-%m-%d %H:%M:%S.%f')\n",
    "        tfilestart=timefilestart\n",
    "        tfileend=tfilestart+delta\n",
    "        \n",
    "        \n",
    "        print tfilestart, tschdstart, tfileend\n",
    "        ## Lower bound\n",
    "        if  tfilestart < tschdstart < tfileend:\n",
    "            tdiff = tschdstart-tfilestart\n",
    "            tdiff = tdiff.seconds+1e-6*tdiff.microseconds\n",
    "            N1 = int(tdiff/(T*87))\n",
    "            offset=blocksize*N1\n",
    "            #### Bytes Offset file\n",
    "            copypost(filename,output,offset)\n",
    "        \n",
    "        ## Upper bound        \n",
    "        if  tfilestart < tschdend < tfileend:\n",
    "            tdiff = tschdend-tfilestart\n",
    "            tdiff = tdiff.seconds+1e-6*tdiff.microseconds\n",
    "            N1 = int(tdiff/(T*87))\n",
    "            offset=blocksize*N1\n",
    "            #### Bytes Offset file\n",
    "            copyprev(filename,output,offset)\n",
    "    \n",
    "# def main(args):iles\n",
    "#     schdtimes=args['schdtimes']\n",
    "#     filelist=args['files']\n",
    "#     filetimes=args['filetimes']\n",
    "#     output='testing.bin'\n",
    "#     datareduce(schdtimes,filelist,filetimes,output)\n",
    "    \n",
    "# if __name__ == \"__main__\":\n",
    "\n",
    "#     schdtimes=['2017-09-11 22:45:00','2017-09-11 22:45:55']\n",
    "#     files=['/nfs/server/OBS4/2017-255/ifms1/MG11_NET4_2017_254_EO_E1_224427_0001',\n",
    "#            '/nfs/server/OBS4/2017-255/ifms1/MG11_NET4_2017_254_EO_E1_224427_0002']\n",
    "#     filetimes=['2017-09-11 22:44:30.801819','2017-09-11 22:45:26.961422']\n",
    "    \n",
    "#     args ={'schdtimes':schdtimes,'files':files, 'filetimes':filetimes }\n",
    "    \n",
    "#     main(args)\n",
    "\n",
    "    \n"
   ]
  },
  {
   "cell_type": "code",
   "execution_count": 47,
   "metadata": {
    "ExecuteTime": {
     "end_time": "2017-10-11T18:15:07.584001Z",
     "start_time": "2017-10-11T18:15:07.476780Z"
    }
   },
   "outputs": [
    {
     "name": "stdout",
     "output_type": "stream",
     "text": [
      "22:44:59.999615\n",
      "22:45:54.999444\n"
     ]
    }
   ],
   "source": [
    "import datetime\n",
    "import numpy as np\n",
    "import os\n",
    "import mmap\n",
    "import struct\n",
    "from bitstring import BitStream, ConstBitStream,Bits\n",
    "from bitstring import BitArray as bt\n",
    "from bitarray import bitarray as BitArray\n",
    "\n",
    "def readheader(BS,hprint=None):\n",
    "    \"\"\"Reads the header of a UNIX format raw data file.\n",
    "    Notes\n",
    "    =====\n",
    "    @param BS : byte stream\n",
    "    \"\"\"\n",
    "    \n",
    "    from bitstruct import unpack\n",
    "    \n",
    "    header={}\n",
    "    header[\"magic\"],header[\"recordlength\"],header[\"hdrlen\"],header[\"blocksize\"],\\\n",
    "    header[\"samplerate\"],header[\"cfegain\"],header[\"qu\"],header[\"msg\"],\\\n",
    "    header[\"frameid\"],header[\"version\"],header[\"timetag_samps\"],header[\"offsetfreq\"],\\\n",
    "    header[\"timetag_secs\"],header[\"subc\"],header[\"digitalgain\"],header[\"subchan0_offset\"],\\\n",
    "    header[\"subchan1_offset\"],header[\"subchan2_offset\"],header[\"subchan3_offset\"],\\\n",
    "    header[\"sweeprate\"],header[\"path_delay\"],header[\"gdspid\"],header[\"hs\"],\\\n",
    "    header[\"semr\"],header[\"sweepchange\"],header[\"ncov\"],header[\"ncoreset_c\"],\\\n",
    "    header[\"ncoreset_t\"],empty = unpack('>r32u16u8u8u16u10u3u3u32u7u25s32u17u4u11s32s32s32s32s32s32u8u1s12u11u1s11u20r128', BS)\n",
    "                  \n",
    "    if hprint:\n",
    "        import yaml\n",
    "        print(yaml.dump(header, default_flow_style=False))\n",
    "        \n",
    "    return header\n",
    "\n",
    "with open('testing.bin', 'rb') as fd:\n",
    "    mm = mmap.mmap(fd.fileno(), 0, prot=mmap.PROT_READ)\n",
    "    header = readheader(mm[0:76],hprint=None)\n",
    "    ## Calculate UTC\n",
    "    X=np.float64(header[\"timetag_samps\"])*np.float64(1./17500000)\n",
    "    Y=np.float64(header[\"path_delay\"])*np.float64(1./35000000)\n",
    "    utctime=np.float64(header[\"timetag_secs\"])+X-Y\n",
    "    ttime=sec2time(utctime,6)\n",
    "    fs=header[\"samplerate\"]\n",
    "    print ttime\n",
    "    \n",
    "    header = readheader(mm[-1468:-1392],hprint=None)\n",
    "    ## Calculate UTC\n",
    "    X=np.float64(header[\"timetag_samps\"])*np.float64(1./17500000)\n",
    "    Y=np.float64(header[\"path_delay\"])*np.float64(1./35000000)\n",
    "    utctime=np.float64(header[\"timetag_secs\"])+X-Y\n",
    "    ttime=sec2time(utctime,6)\n",
    "    fs=header[\"samplerate\"]\n",
    "    print ttime"
   ]
  },
  {
   "cell_type": "code",
   "execution_count": null,
   "metadata": {
    "collapsed": true
   },
   "outputs": [],
   "source": []
  }
 ],
 "metadata": {
  "kernelspec": {
   "display_name": "Python 2",
   "language": "python",
   "name": "python2"
  },
  "language_info": {
   "codemirror_mode": {
    "name": "ipython",
    "version": 2
   },
   "file_extension": ".py",
   "mimetype": "text/x-python",
   "name": "python",
   "nbconvert_exporter": "python",
   "pygments_lexer": "ipython2",
   "version": "2.7.12"
  }
 },
 "nbformat": 4,
 "nbformat_minor": 2
}
