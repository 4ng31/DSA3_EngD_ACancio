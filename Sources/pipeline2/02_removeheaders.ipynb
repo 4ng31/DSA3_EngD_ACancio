{
 "cells": [
  {
   "cell_type": "code",
   "execution_count": 2,
   "metadata": {
    "ExecuteTime": {
     "end_time": "2017-10-30T13:50:52.047263Z",
     "start_time": "2017-10-30T13:50:52.030112Z"
    }
   },
   "outputs": [
    {
     "name": "stdout",
     "output_type": "stream",
     "text": [
      "/home/bgx/.mega2/Desarrollo/github/radsa/bin\n"
     ]
    }
   ],
   "source": [
    "DIR=%pwd\n",
    "%cd $DIR/github/radsa/bin/\n"
   ]
  },
  {
   "cell_type": "code",
   "execution_count": 1,
   "metadata": {
    "ExecuteTime": {
     "end_time": "2017-12-29T03:06:24.197795Z",
     "start_time": "2017-12-29T03:06:24.173002Z"
    }
   },
   "outputs": [
    {
     "name": "stdout",
     "output_type": "stream",
     "text": [
      "Writing \"02_removeheaders.py\"\n"
     ]
    }
   ],
   "source": [
    "%%writefile \"02_removeheaders.py\"\n",
    "# -*- coding: utf-8 -*-\n",
    "import os\n",
    "import struct\n",
    "import mmap\n",
    "import sys\n",
    "import yaml\n",
    "import argparse\n",
    "import multiprocessing\n",
    "import numpy as np\n",
    "from bitstring import BitStream, ConstBitStream,Bits\n",
    "from bitstring import BitArray as bt\n",
    "from bitarray import bitarray as BitArray\n",
    "from itertools import chain\n",
    "import csv\n",
    "\n",
    "def readheader(BS,hprint=None):\n",
    "    \"\"\"Reads the header of a UNIX format raw data file.\n",
    "    Notes\n",
    "    =====\n",
    "    @param BS : byte stream\n",
    "    \"\"\"\n",
    "    \n",
    "    from bitstruct import unpack\n",
    "    \n",
    "    header={}\n",
    "    header[\"magic\"],header[\"recordlength\"],header[\"hdrlen\"],header[\"blocksize\"],\\\n",
    "    header[\"samplerate\"],header[\"cfegain\"],header[\"qu\"],header[\"msg\"],\\\n",
    "    header[\"frameid\"],header[\"version\"],header[\"timetag_samps\"],header[\"offsetfreq\"],\\\n",
    "    header[\"timetag_secs\"],header[\"subc\"],header[\"digitalgain\"],header[\"subchan0_offset\"],\\\n",
    "    header[\"subchan1_offset\"],header[\"subchan2_offset\"],header[\"subchan3_offset\"],\\\n",
    "    header[\"sweeprate\"],header[\"path_delay\"],header[\"gdspid\"],header[\"hs\"],\\\n",
    "    header[\"semr\"],header[\"sweepchange\"],header[\"ncov\"],header[\"ncoreset_c\"],\\\n",
    "    header[\"ncoreset_t\"],empty = unpack('>r32u16u8u8u16u10u3u3u32u7u25s32u17u4u11s32s32s32s32s32s32u8u1s12u11u1s11u20r128', BS)\n",
    "                  \n",
    "    if hprint:\n",
    "        import yaml\n",
    "        print(yaml.dump(header, default_flow_style=False))\n",
    "        \n",
    "    return header\n",
    "\n",
    "def readblock(filepointer, startbyte,endbyte):\n",
    "    a = bt(filepointer)\n",
    "    H=76*8\n",
    "    R=1392*8\n",
    "    pkg=H+R\n",
    "    print a.len\n",
    "    for i in range(0,a.len/pkg):\n",
    "        del a[i*(R):i*(R)+H]\n",
    "    print a.len\n",
    "\n",
    "def bymmap(INFILE,OUTFILE):\n",
    "    SIZE = os.stat(INFILE).st_size\n",
    "    print SIZE\n",
    "    BYTES=1468\n",
    "    SKIP=76\n",
    "    \n",
    "    with open(INFILE, 'rb') as fd:\n",
    "        mm = mmap.mmap(fd.fileno(), 0, prot=mmap.PROT_READ)\n",
    "        for offset in range(0, SIZE, BYTES):\n",
    "            data = mm[offset+SKIP:offset+BYTES]\n",
    "            with open(OUTFILE, 'ab') as f:\n",
    "                f.write(data)\n",
    "    print 'Done'\n",
    "    \n",
    "            \n",
    "def main(args):\n",
    "    bymmap(args.infile,args.outfile)\n",
    "            \n",
    "if __name__ == \"__main__\":\n",
    "\n",
    "    parser = argparse.ArgumentParser(description='Extract binary data, remove UDP headers')\n",
    "    parser.add_argument('-i','--infile', dest='infile', help='Path of a file', required=True)\n",
    "    parser.add_argument('-o','--outfile', dest='outfile', help='Path of a file', required=True)\n",
    "    args = parser.parse_args()\n",
    "    \n",
    "    main(args)"
   ]
  },
  {
   "cell_type": "code",
   "execution_count": 32,
   "metadata": {
    "ExecuteTime": {
     "end_time": "2017-08-10T15:18:59.359879Z",
     "start_time": "2017-08-10T15:18:59.339145Z"
    }
   },
   "outputs": [
    {
     "name": "stdout",
     "output_type": "stream",
     "text": [
      "28\n",
      "0000111000011100001110000\n",
      "0000000011100001110000\n",
      "0000000000001110000\n",
      "0000000000000000\n"
     ]
    }
   ],
   "source": [
    "from bitstring import BitArray as bt\n",
    "\n",
    "a=bt(bin='1110000111000011100001110000')\n",
    "H=3\n",
    "R=4\n",
    "pkg=H+R\n",
    "print a.len\n",
    "for i in range(0,a.len/pkg):\n",
    "    del a[i*(R):i*(R)+H]\n",
    "    print a.bin"
   ]
  },
  {
   "cell_type": "code",
   "execution_count": null,
   "metadata": {
    "collapsed": true
   },
   "outputs": [],
   "source": []
  }
 ],
 "metadata": {
  "kernelspec": {
   "display_name": "Python 2",
   "language": "python",
   "name": "python2"
  },
  "language_info": {
   "codemirror_mode": {
    "name": "ipython",
    "version": 2
   },
   "file_extension": ".py",
   "mimetype": "text/x-python",
   "name": "python",
   "nbconvert_exporter": "python",
   "pygments_lexer": "ipython2",
   "version": "2.7.12"
  }
 },
 "nbformat": 4,
 "nbformat_minor": 2
}
