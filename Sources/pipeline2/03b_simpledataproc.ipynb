{
 "cells": [
  {
   "cell_type": "code",
   "execution_count": 6,
   "metadata": {
    "ExecuteTime": {
     "end_time": "2017-08-15T00:51:34.167723Z",
     "start_time": "2017-08-15T00:51:34.154929Z"
    },
    "run_control": {
     "frozen": false,
     "read_only": false
    }
   },
   "outputs": [
    {
     "name": "stdout",
     "output_type": "stream",
     "text": [
      "/home/bgx/.mega2/Desarrollo/github/radsa\n"
     ]
    }
   ],
   "source": [
    "DIR=%pwd\n",
    "%cd $DIR/radsa"
   ]
  },
  {
   "cell_type": "code",
   "execution_count": 1,
   "metadata": {
    "ExecuteTime": {
     "end_time": "2017-10-30T18:32:38.474728Z",
     "start_time": "2017-10-30T18:32:38.410614Z"
    },
    "code_folding": [
     20
    ],
    "run_control": {
     "frozen": false,
     "read_only": false
    }
   },
   "outputs": [
    {
     "name": "stdout",
     "output_type": "stream",
     "text": [
      "Writing simpledataproc.py\n"
     ]
    }
   ],
   "source": [
    "%%writefile 03b_simpledataproc.py\n",
    "\n",
    "# Antena Data Processor \n",
    "import numpy as np\n",
    "import sys,os\n",
    "import argparse\n",
    "from bitarray import bitarray\n",
    "import math\n",
    "from libradsa import *\n",
    "\n",
    "import multiprocessing\n",
    "from multiprocessing.dummy import Pool as ThreadPool\n",
    "from functools import partial\n",
    "\n",
    "import ctypes\n",
    "# ctypes.CDLL('libgomp.so.1', mode=ctypes.RTLD_GLOBAL)\n",
    "# ctypes.cdll.LoadLibrary('libcusolver.so')\n",
    "\n",
    "def readdeco(filename,qbits):\n",
    "    datastream = bitarray()\n",
    "    if filename:\n",
    "        with open(filename) as f:\n",
    "            datastream.fromfile(f)\n",
    "        \n",
    "    ## Read data\n",
    "    ## Should be improved\n",
    "    chl0,chl1,chl2,chl3=demux(datastream)\n",
    "    \n",
    "    if qbits == 2:\n",
    "        CH0,CH1,CH2,CH3=decode2bit(chl0,chl1,chl2,chl3)\n",
    "    elif qbits == 4:\n",
    "        CH0,CH1,CH2,CH3=decode4bit(chl0,chl1,chl2,chl3)\n",
    "    elif qbits == 8:\n",
    "        CH0,CH1,CH2,CH3=decode8bit(chl0,chl1,chl2,chl3)\n",
    "    elif qbits == 16:\n",
    "        CH0,CH1,CH2,CH3=decode16bit(chl0,chl1,chl2,chl3)    \n",
    "    \n",
    "    return CH0,CH1,CH2,CH3\n",
    "\n",
    "# auxiliary function\n",
    "def readdeco_aux(args):\n",
    "    return readdeco(*args)\n",
    "\n",
    "def main(args):\n",
    "    \n",
    "    lfile=[args.infileifms1, args.infileifms2, args.infileifms3]\n",
    "    p = ThreadPool(3)\n",
    "    job_args = [(lfile[i[0]],args.qbits) for i in enumerate(lfile)] \n",
    "    result = np.array(p.map(readdeco_aux, job_args))\n",
    "    \n",
    "    dt1=np.dtype(np.float32)\n",
    "    dt2=np.dtype(np.complex64)\n",
    "    \n",
    "    a = np.array([result[0][0],\n",
    "                  result[0][1],\n",
    "                  result[0][2],\n",
    "                  result[0][3]])\n",
    "   \n",
    "    b = np.array([result[1][0],\n",
    "                  result[1][1],\n",
    "                  result[1][2],\n",
    "                  result[1][3]])\n",
    "    \n",
    "    c = np.array([result[2][0],\n",
    "                  result[2][1],\n",
    "                  result[2][2],\n",
    "                  result[2][3]])\n",
    "    del result\n",
    "    \n",
    "    a=a.astype(dt1).view(dt2)\n",
    "    ### We have to split the numpy array in chunks to fit size similar to the GPU Device\n",
    "    A=a.nbytes\n",
    "    SIZE=2147483648 #2048 MBytes\n",
    "    nchunks=math.ceil(float(A)/SIZE)\n",
    "    \n",
    "    step=int(math.ceil(a.shape[1]/nchunks))\n",
    "    SUM=np.array([ 0.+0.j , 0.+0.j , 0.+0.j , 0+0.j ], dtype=dt2)\n",
    "    \n",
    "    for i in range(0,int(a.shape[1]),step):\n",
    "        x = np.array(a[0::,0+i:i+step])\n",
    "        y=np.conjugate(x)\n",
    "        z=np.multiply(x,y)\n",
    "        del x\n",
    "        del y\n",
    "        thesum=np.sum(z, axis=1)\n",
    "        SUM=np.add(SUM,thesum)\n",
    "        del z\n",
    "        \n",
    "    N = np.int32((a[0].shape)[0])\n",
    "    RMS=np.sqrt(SUM.real/N)\n",
    "    IFMS1=(\",%f\"*4)[1:] % tuple((RMS).flatten())\n",
    "    del RMS\n",
    "    del a\n",
    "    \n",
    "    b=b.astype(dt1).view(dt2)\n",
    "    B=b.nbytes\n",
    "    nchunks=math.ceil(float(B)/SIZE)\n",
    "    step=int(math.ceil(c.shape[1]/nchunks))\n",
    "    SUM=np.array([ 0.+0.j , 0.+0.j , 0.+0.j , 0+0.j ], dtype=dt2)\n",
    "    \n",
    "    for i in range(0,int(b.shape[1]),step):\n",
    "        x = np.array(b[0::,0+i:i+step])\n",
    "        y=np.conjugate(x)\n",
    "        z=np.multiply(x,y)\n",
    "        del x\n",
    "        del y\n",
    "        thesum=np.sum(z, axis=1)\n",
    "        SUM=np.add(SUM,thesum)\n",
    "        del z\n",
    "        \n",
    "    N = np.int32((b[0].shape)[0])\n",
    "    RMS=np.sqrt(SUM.real/N)\n",
    "    IFMS2=(\",%f\"*4)[1:] % tuple((RMS).flatten())\n",
    "    del RMS\n",
    "    del b\n",
    "    \n",
    "    c=c.astype(dt1).view(dt2)\n",
    "    C=c.nbytes\n",
    "    nchunks=math.ceil(float(C)/SIZE)\n",
    "    step=int(math.ceil(c.shape[1]/nchunks))\n",
    "    SUM=np.array([ 0.+0.j , 0.+0.j , 0.+0.j , 0+0.j ], dtype=dt2)\n",
    "    \n",
    "    for i in range(0,int(c.shape[1]),step):\n",
    "        x = np.array(c[0::,0+i:i+step])\n",
    "        y=np.conjugate(x)\n",
    "        z=np.multiply(x,y)\n",
    "        del x\n",
    "        del y\n",
    "        thesum=np.sum(z, axis=1)\n",
    "        SUM=np.add(SUM,thesum)\n",
    "        del z\n",
    "        \n",
    "    N = np.int32((c[0].shape)[0])\n",
    "    RMS=np.sqrt(SUM.real/N)\n",
    "    IFMS3=(\",%f\"*4)[1:] % tuple((RMS).flatten())\n",
    "    del RMS\n",
    "    del c\n",
    "    \n",
    "    string = os.path.basename(args.infileifms1)+','+IFMS1+','+\\\n",
    "             os.path.basename(args.infileifms2)+','+IFMS2+','+\\\n",
    "             os.path.basename(args.infileifms3)+','+IFMS3\n",
    "    \n",
    "    print string\n",
    "    \n",
    "    with open('result_simple.txt', 'aw') as file:\n",
    "        file.write(string)\n",
    "        file.write(\"\\n\")\n",
    "\n",
    "if __name__ == \"__main__\":\n",
    "    \n",
    "    import time\n",
    "    start_time = time.time()\n",
    "    \n",
    "    parser = argparse.ArgumentParser(description='Simulate antena data format.')\n",
    "    parser.add_argument('-q', dest='qbits', type=int, choices=[2,4,8,16],\n",
    "                        help=\"Bits quantization\", required=True)\n",
    "    parser.add_argument('-i1', '--infileifms1', dest='infileifms1',\n",
    "                        help='Read from IN_FILE the simulated data.', required=False)\n",
    "    parser.add_argument('-i2', '--infileifms2', dest='infileifms2',\n",
    "                        help='Read from IN_FILE the simulated data.', required=False)\n",
    "    parser.add_argument('-i3', '--infileifms3', dest='infileifms3',\n",
    "                        help='Read from IN_FILE the simulated data.', required=False)\n",
    "    \n",
    "    args = parser.parse_args()\n",
    "    \n",
    "    main(args)\n",
    "    print(\"--- %s seconds ---\" % (time.time() - start_time))"
   ]
  },
  {
   "cell_type": "code",
   "execution_count": null,
   "metadata": {
    "collapsed": true
   },
   "outputs": [],
   "source": []
  }
 ],
 "metadata": {
  "kernelspec": {
   "display_name": "Python 2",
   "language": "python",
   "name": "python2"
  },
  "language_info": {
   "codemirror_mode": {
    "name": "ipython",
    "version": 2
   },
   "file_extension": ".py",
   "mimetype": "text/x-python",
   "name": "python",
   "nbconvert_exporter": "python",
   "pygments_lexer": "ipython2",
   "version": "2.7.12"
  }
 },
 "nbformat": 4,
 "nbformat_minor": 2
}
