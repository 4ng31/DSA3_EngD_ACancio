{
 "cells": [
  {
   "cell_type": "code",
   "execution_count": 1,
   "metadata": {
    "ExecuteTime": {
     "end_time": "2016-10-28T14:50:25.395947",
     "start_time": "2016-10-28T14:50:25.183972"
    }
   },
   "outputs": [
    {
     "ename": "SyntaxError",
     "evalue": "invalid syntax (<ipython-input-1-06a5a551004a>, line 93)",
     "output_type": "error",
     "traceback": [
      "\u001b[0;36m  File \u001b[0;32m\"<ipython-input-1-06a5a551004a>\"\u001b[0;36m, line \u001b[0;32m93\u001b[0m\n\u001b[0;31m    if hd['magic'] == '\\a3'\u001b[0m\n\u001b[0m                            ^\u001b[0m\n\u001b[0;31mSyntaxError\u001b[0m\u001b[0;31m:\u001b[0m invalid syntax\n"
     ]
    }
   ],
   "source": [
    "# %%writefile iq_beta.py\n",
    "\n",
    "import os\n",
    "import sys\n",
    "import numpy as np\n",
    "from bitarray import bitarray\n",
    "# from math import log10\n",
    "# from astropy.table import Table, Column\n",
    "# from astropy.io import ascii\n",
    "\n",
    "print('Testing')\n",
    "\n",
    "def readheader(BS,hprint=None):\n",
    "    \"\"\"Reads the header of a UNIX format raw data file.\n",
    "    Notes\n",
    "    =====\n",
    "    @param BS : byte stream\n",
    "    \"\"\"\n",
    "    \n",
    "    from bitstruct import unpack\n",
    "    \n",
    "    header={}\n",
    "    header[\"magic\"],header[\"recordlength\"],header[\"hdrlen\"],header[\"blocksize\"],\\\n",
    "    header[\"samplerate\"],header[\"cfegain\"],header[\"qu\"],header[\"msg\"],\\\n",
    "    header[\"frameid\"],header[\"version\"],header[\"timetag_samps\"],header[\"offsetfreq\"],\\\n",
    "    header[\"timetag_secs\"],header[\"subc\"],header[\"digitalgain\"],header[\"subchan0_offset\"],\\\n",
    "    header[\"subchan1_offset\"],header[\"subchan2_offset\"],header[\"subchan3_offset\"],\\\n",
    "    header[\"sweeprate\"],header[\"path_delay\"],header[\"gdspid\"],header[\"hs\"],\\\n",
    "    header[\"semr\"],header[\"sweepchange\"],header[\"ncov\"],header[\"ncoreset_c\"],\\\n",
    "    header[\"ncoreset_t\"],empty = unpack('>r32u16u8u8u16u10u3u3u32u7u25s32u17u4u11s32s32s32s32s32s32u8u1s12u11u1s11u20r128', BS)\n",
    "                  \n",
    "    if hprint:\n",
    "        import yaml\n",
    "        print(yaml.dump(header, default_flow_style=False))\n",
    "        \n",
    "    return header\n",
    "\n",
    "def demux(stream):\n",
    "    \"\"\"Demultiplex data and separate channels\n",
    "    \n",
    "    Notes\n",
    "    =====\n",
    "    @param stream : bitarray of multiplexed bits channels\n",
    "    \"\"\"\n",
    "    \n",
    "    b=bitarray(stream.length()/2)\n",
    "    c=bitarray(stream.length()/2)\n",
    "    b.setall(False)\n",
    "    c.setall(False)\n",
    "    \n",
    "    ch0 = bitarray(stream.length())\n",
    "    ch1 = bitarray(stream.length())\n",
    "    ch2 = bitarray(stream.length())\n",
    "    ch3 = bitarray(stream.length())\n",
    "    ch0.setall(False)\n",
    "    ch1.setall(False)\n",
    "    ch2.setall(False)\n",
    "    ch3.setall(False)\n",
    "\n",
    "    b, c = stream[::2], stream[1::2]\n",
    "    ch0, ch2 = b[::2], b[1::2]\n",
    "    ch1, ch3 = c[::2], c[1::2]\n",
    "\n",
    "    return ch0,ch1,ch2,ch3\n",
    "\n",
    "def readdatabytes(filename):\n",
    "    \"\"\"\n",
    "    Notes\n",
    "    =====\n",
    "    \n",
    "    \"\"\"\n",
    "    \n",
    "    fsize=os.path.getsize(filename)\n",
    "    print(fsize)\n",
    "    datasize=int(fsize*1468)*1392 ## BYTES\n",
    "    print(datasize)\n",
    "    \n",
    "    fh = bitarray()  \n",
    "    da = bitarray(datasize*8) ### BITS\n",
    "    da.setall(False)\n",
    "    \n",
    "    with open(filename, 'rb') as f:\n",
    "        fh.fromfile(f)\n",
    "    \n",
    "    j=0\n",
    "    i=0\n",
    "    bits=8*1468\n",
    "    \n",
    "    while True:\n",
    "        header = bitarray()\n",
    "        data = bitarray()    \n",
    "\n",
    "        aux=bits*i\n",
    "        aux1=aux+8*76\n",
    "        aux2=aux+bits\n",
    "        \n",
    "        header = fh[aux:aux1]    \n",
    "        hd = readheader(header.tobytes(),hprint=False)\n",
    "        print(hd['magic'])\n",
    "        if hd['magic'] == '\\a3' \n",
    "            print('OK')\n",
    "        \n",
    "        if aux2 == len(fh):\n",
    "            break\n",
    "            \n",
    "    return 0\n",
    "\n",
    "readdatabytes('/home/bgx/Descargas/GSRF_TEST_2016_300_DD_E1_120158_0001')\n"
   ]
  },
  {
   "cell_type": "code",
   "execution_count": null,
   "metadata": {
    "collapsed": true
   },
   "outputs": [],
   "source": []
  },
  {
   "cell_type": "code",
   "execution_count": null,
   "metadata": {
    "collapsed": true
   },
   "outputs": [],
   "source": []
  }
 ],
 "metadata": {
  "kernelspec": {
   "display_name": "Python 3",
   "language": "python",
   "name": "python3"
  },
  "language_info": {
   "codemirror_mode": {
    "name": "ipython",
    "version": 3
   },
   "file_extension": ".py",
   "mimetype": "text/x-python",
   "name": "python",
   "nbconvert_exporter": "python",
   "pygments_lexer": "ipython3",
   "version": "3.5.2"
  }
 },
 "nbformat": 4,
 "nbformat_minor": 1
}
