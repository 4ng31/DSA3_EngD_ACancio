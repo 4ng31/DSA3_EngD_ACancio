{
 "cells": [
  {
   "cell_type": "code",
   "execution_count": 21,
   "metadata": {
    "ExecuteTime": {
     "end_time": "2017-10-09T18:10:24.824258Z",
     "start_time": "2017-10-09T18:10:24.748731Z"
    }
   },
   "outputs": [
    {
     "name": "stdout",
     "output_type": "stream",
     "text": [
      "Prediction [1 0 1 0 1 0 1 1 0 1 1 1 1 1]\n",
      "Actual     [0 0 0 1 1 0 0 1 0 0 1 1 1 1]\n",
      "Accuracy   64.2857142857%\n"
     ]
    },
    {
     "name": "stderr",
     "output_type": "stream",
     "text": [
      "/usr/local/lib/python2.7/dist-packages/sklearn/linear_model/stochastic_gradient.py:73: DeprecationWarning: n_iter parameter is deprecated in 0.19 and will be removed in 0.21. Use max_iter and tol instead.\n",
      "  DeprecationWarning)\n"
     ]
    }
   ],
   "source": [
    "from sklearn import linear_model as lm\n",
    "import numpy as np\n",
    "\n",
    "# Data\n",
    "d = np.array([\n",
    "[2, 1, 2, 5, 7, 2, 3, 6, 1, 2, 5, 4, 6, 5],\n",
    "[2, 3, 3, 3, 3, 4, 4, 4, 5, 5, 5, 6, 6, 7]\n",
    "])\n",
    "\n",
    "d1=d = np.array([\n",
    "[3, 2, 9, 5, 7, 2, 3, 6, 1, 2, 5, 4, 6, 5],\n",
    "[5, 4, 1, 1, 1, 4, 4, 4, 5, 5, 5, 6, 6, 7]\n",
    "])\n",
    " \n",
    "# Labels\n",
    "t = np.array([0, 0, 0, 1, 1, 0, 0, 1, 0, 0, 1, 1, 1, 1])\n",
    "\n",
    "# Create the model\n",
    "net = lm.Perceptron(max_iter=1000, verbose=0, random_state=None, fit_intercept=True, eta0=0.002)\n",
    "\n",
    "# rotate the data 180 degrees\n",
    "d90 = np.rot90(d)\n",
    "d90 = np.rot90(d90)\n",
    "d90 = np.rot90(d90)\n",
    "\n",
    "# rotate the data 180 degrees\n",
    "d91 = np.rot90(d1)\n",
    "d91 = np.rot90(d91)\n",
    "d91 = np.rot90(d91)\n",
    "\n",
    "# Create the model\n",
    "net = lm.Perceptron(n_iter=100, verbose=0, random_state=None, fit_intercept=True, eta0=0.002)\n",
    "net.fit(d90,t)\n",
    "\n",
    "# Print the results\n",
    "print \"Prediction \" + str(net.predict(d91))\n",
    "print \"Actual     \" + str(t)\n",
    "print \"Accuracy   \" + str(net.score(d91, t)*100) + \"%\""
   ]
  },
  {
   "cell_type": "code",
   "execution_count": null,
   "metadata": {
    "collapsed": true
   },
   "outputs": [],
   "source": []
  }
 ],
 "metadata": {
  "kernelspec": {
   "display_name": "Python 2",
   "language": "python",
   "name": "python2"
  },
  "language_info": {
   "codemirror_mode": {
    "name": "ipython",
    "version": 2
   },
   "file_extension": ".py",
   "mimetype": "text/x-python",
   "name": "python",
   "nbconvert_exporter": "python",
   "pygments_lexer": "ipython2",
   "version": "2.7.12"
  }
 },
 "nbformat": 4,
 "nbformat_minor": 2
}
