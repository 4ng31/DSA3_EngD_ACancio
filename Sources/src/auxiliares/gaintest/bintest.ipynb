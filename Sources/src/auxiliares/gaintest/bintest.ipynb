{
 "cells": [
  {
   "cell_type": "code",
   "execution_count": 52,
   "metadata": {
    "ExecuteTime": {
     "end_time": "2016-11-03T15:19:05.236418",
     "start_time": "2016-11-03T15:19:05.200121"
    },
    "code_folding": [],
    "run_control": {
     "frozen": false,
     "read_only": false
    }
   },
   "outputs": [
    {
     "name": "stdout",
     "output_type": "stream",
     "text": [
      " bitarray('10101001000000000000000000000000')\n",
      "bitarray('11000000') bitarray('00000000') bitarray('10000000') bitarray('01000000')\n",
      "1100 [-4] 0000 [0]\n",
      "0000 [0] 0000 [0]\n",
      "1000 [-8] 0000 [0]\n",
      "0100 [4] 0000 [0]\n"
     ]
    }
   ],
   "source": [
    "import os\n",
    "import sys\n",
    "import numpy as np\n",
    "from bitarray import bitarray\n",
    "from math import log10\n",
    "from astropy.table import Table, Column\n",
    "from astropy.io import ascii\n",
    "\n",
    "da = bitarray(4*8) ### BITS\n",
    "da = bitarray('10101001000000000000000000000000')\n",
    "print da\n",
    "b, c = da[::2], da[1::2]\n",
    "ch0, ch2 = b[::2], b[1::2]\n",
    "ch1, ch3 = c[::2], c[1::2]\n",
    "\n",
    "print ch0, ch1, ch2, ch3\n",
    "\n",
    "CH0=np.frombuffer(ch0, dtype=np.int8)\n",
    "CH1=np.frombuffer(ch1, dtype=np.int8)\n",
    "CH2=np.frombuffer(ch2, dtype=np.int8)\n",
    "CH3=np.frombuffer(ch3, dtype=np.int8)\n",
    "\n",
    "CH0I = np.bitwise_and(CH0, 0xf0).astype(np.int8) >> 4\n",
    "CH0Q=(np.bitwise_and(CH0, 0x0f) << 4).astype(np.int8) >> 4\n",
    "\n",
    "CH1I = np.bitwise_and(CH1, 0xf0).astype(np.int8) >> 4\n",
    "CH1Q=(np.bitwise_and(CH1, 0x0f) << 4).astype(np.int8) >> 4\n",
    "\n",
    "CH2I = np.bitwise_and(CH2, 0xf0).astype(np.int8) >> 4\n",
    "CH2Q=(np.bitwise_and(CH2, 0x0f) << 4).astype(np.int8) >> 4\n",
    "\n",
    "CH3I = np.bitwise_and(CH3, 0xf0).astype(np.int8) >> 4\n",
    "CH3Q=(np.bitwise_and(CH3, 0x0f) << 4).astype(np.int8) >> 4\n",
    "\n",
    "\n",
    "print np.binary_repr(CH0I, width=4),CH0I,np.binary_repr(CH0Q, width=4),CH0Q\n",
    "print np.binary_repr(CH1I, width=4),CH1I,np.binary_repr(CH1Q, width=4),CH1Q\n",
    "print np.binary_repr(CH2I, width=4),CH2I,np.binary_repr(CH2Q, width=4),CH2Q\n",
    "print np.binary_repr(CH3I, width=4),CH3I,np.binary_repr(CH3Q, width=4),CH3Q\n"
   ]
  },
  {
   "cell_type": "code",
   "execution_count": null,
   "metadata": {
    "collapsed": true
   },
   "outputs": [],
   "source": []
  }
 ],
 "metadata": {
  "kernelspec": {
   "display_name": "Python 2",
   "language": "python",
   "name": "python2"
  },
  "language_info": {
   "codemirror_mode": {
    "name": "ipython",
    "version": 2
   },
   "file_extension": ".py",
   "mimetype": "text/x-python",
   "name": "python",
   "nbconvert_exporter": "python",
   "pygments_lexer": "ipython2",
   "version": "2.7.12"
  }
 },
 "nbformat": 4,
 "nbformat_minor": 1
}
