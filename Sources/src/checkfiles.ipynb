{
 "cells": [
  {
   "cell_type": "code",
   "execution_count": 2,
   "metadata": {
    "ExecuteTime": {
     "end_time": "2017-10-30T15:05:36.333512Z",
     "start_time": "2017-10-30T15:05:36.315419Z"
    }
   },
   "outputs": [
    {
     "name": "stdout",
     "output_type": "stream",
     "text": [
      "/home/bgx/.mega2/Desarrollo/github/radsa/bin\n"
     ]
    }
   ],
   "source": [
    "DIR=%pwd\n",
    "%cd $DIR/github/radsa/bin/\n"
   ]
  },
  {
   "cell_type": "code",
   "execution_count": 5,
   "metadata": {
    "ExecuteTime": {
     "end_time": "2017-10-30T15:11:34.162976Z",
     "start_time": "2017-10-30T15:11:34.146924Z"
    }
   },
   "outputs": [
    {
     "name": "stdout",
     "output_type": "stream",
     "text": [
      "Overwriting checkfiles.py\n"
     ]
    }
   ],
   "source": [
    "%%writefile checkfiles.py\n",
    "# -*- coding: utf-8 -*-\n",
    "import os\n",
    "import struct\n",
    "import mmap\n",
    "import sys\n",
    "import yaml\n",
    "import argparse\n",
    "import multiprocessing\n",
    "import numpy as np\n",
    "from bitstring import BitStream, ConstBitStream,Bits\n",
    "from bitstring import BitArray as bt\n",
    "from bitarray import bitarray as BitArray\n",
    "from itertools import chain\n",
    "import csv\n",
    "\n",
    "def readheader(BS,hprint=None):\n",
    "    \"\"\"Reads the header of a UNIX format raw data file.\n",
    "    Notes\n",
    "    =====\n",
    "    @param BS : byte stream\n",
    "    \"\"\"\n",
    "    \n",
    "    from bitstruct import unpack\n",
    "    \n",
    "    header={}\n",
    "    header[\"magic\"],header[\"recordlength\"],header[\"hdrlen\"],header[\"blocksize\"],\\\n",
    "    header[\"samplerate\"],header[\"cfegain\"],header[\"qu\"],header[\"msg\"],\\\n",
    "    header[\"frameid\"],header[\"version\"],header[\"timetag_samps\"],header[\"offsetfreq\"],\\\n",
    "    header[\"timetag_secs\"],header[\"subc\"],header[\"digitalgain\"],header[\"subchan0_offset\"],\\\n",
    "    header[\"subchan1_offset\"],header[\"subchan2_offset\"],header[\"subchan3_offset\"],\\\n",
    "    header[\"sweeprate\"],header[\"path_delay\"],header[\"gdspid\"],header[\"hs\"],\\\n",
    "    header[\"semr\"],header[\"sweepchange\"],header[\"ncov\"],header[\"ncoreset_c\"],\\\n",
    "    header[\"ncoreset_t\"],empty = unpack('>r32u16u8u8u16u10u3u3u32u7u25s32u17u4u11s32s32s32s32s32s32u8u1s12u11u1s11u20r128', BS)\n",
    "                  \n",
    "    if hprint:\n",
    "        import yaml\n",
    "        print(yaml.dump(header, default_flow_style=False))\n",
    "        \n",
    "    return header\n",
    "\n",
    "def sec2time(sec, n_msec=3):\n",
    "    ''' Convert seconds to 'D days, HH:MM:SS.FFF' '''\n",
    "    if hasattr(sec,'__len__'):\n",
    "        return [sec2time(s) for s in sec]\n",
    "    m, s = divmod(sec, 60)\n",
    "    h, m = divmod(m, 60)\n",
    "    d, h = divmod(h, 24)\n",
    "    if n_msec > 0:\n",
    "        pattern = '%%02d:%%02d:%%0%d.%df' % (n_msec+3, n_msec)\n",
    "    else:\n",
    "        pattern = r'%02d:%02d:%02d'\n",
    "    if d == 0:\n",
    "        return pattern % (h, m, s)\n",
    "    return ('%d days, ' + pattern) % (d, h, m, s)\n",
    "\n",
    "\n",
    "def readblock(filepointer, startbyte,endbyte):\n",
    "    a = bt(filepointer)\n",
    "    H=76*8\n",
    "    R=1392*8\n",
    "    pkg=H+R\n",
    "    print a.len\n",
    "    for i in range(0,a.len/pkg):\n",
    "        del a[i*(R):i*(R)+H]\n",
    "    print a.len\n",
    "\n",
    "def check(INFILE):\n",
    "    SIZE = os.stat(INFILE).st_size\n",
    "    print SIZE\n",
    "    BYTES=1468\n",
    "    HEADER=76\n",
    "    \n",
    "    with open(INFILE, 'rb') as fd:\n",
    "        mm = mmap.mmap(fd.fileno(), 0, prot=mmap.PROT_READ)\n",
    "        BS= mm[0:HEADER]\n",
    "        header1 = readheader(BS,hprint=None)\n",
    "        X=np.float64(header1[\"timetag_samps\"])*np.float64(1./17500000)\n",
    "        Y=np.float64(header1[\"path_delay\"])*np.float64(1./35000000)\n",
    "        utctime=np.float64(header1[\"timetag_secs\"])+X-Y\n",
    "        ttime=sec2time(utctime,6)\n",
    "        print ttime\n",
    "        BS = mm[SIZE-BYTES:SIZE-BYTES+HEADER]\n",
    "        header2 = readheader(BS,hprint=None)\n",
    "        X=np.float64(header2[\"timetag_samps\"])*np.float64(1./17500000)\n",
    "        Y=np.float64(header2[\"path_delay\"])*np.float64(1./35000000)\n",
    "        utctime=np.float64(header2[\"timetag_secs\"])+X-Y\n",
    "        ttime=sec2time(utctime,6)\n",
    "        print ttime\n",
    "            \n",
    "def main(args):\n",
    "    check(args.infile)\n",
    "            \n",
    "if __name__ == \"__main__\":\n",
    "\n",
    "    parser = argparse.ArgumentParser(description='Extract binary data, remove UDP headers')\n",
    "    parser.add_argument('-i','--infile', dest='infile', help='Path of a file', required=True)\n",
    "#     parser.add_argument('-o','--outfile', dest='outfile', help='Path of a file', required=True)\n",
    "    args = parser.parse_args()\n",
    "    \n",
    "    main(args)"
   ]
  },
  {
   "cell_type": "code",
   "execution_count": 32,
   "metadata": {
    "ExecuteTime": {
     "end_time": "2017-08-10T15:18:59.359879Z",
     "start_time": "2017-08-10T15:18:59.339145Z"
    }
   },
   "outputs": [
    {
     "name": "stdout",
     "output_type": "stream",
     "text": [
      "28\n",
      "0000111000011100001110000\n",
      "0000000011100001110000\n",
      "0000000000001110000\n",
      "0000000000000000\n"
     ]
    }
   ],
   "source": [
    "from bitstring import BitArray as bt\n",
    "\n",
    "a=bt(bin='1110000111000011100001110000')\n",
    "H=3\n",
    "R=4\n",
    "pkg=H+R\n",
    "print a.len\n",
    "for i in range(0,a.len/pkg):\n",
    "    del a[i*(R):i*(R)+H]\n",
    "    print a.bin"
   ]
  },
  {
   "cell_type": "code",
   "execution_count": null,
   "metadata": {
    "collapsed": true
   },
   "outputs": [],
   "source": []
  }
 ],
 "metadata": {
  "kernelspec": {
   "display_name": "Python 2",
   "language": "python",
   "name": "python2"
  },
  "language_info": {
   "codemirror_mode": {
    "name": "ipython",
    "version": 2
   },
   "file_extension": ".py",
   "mimetype": "text/x-python",
   "name": "python",
   "nbconvert_exporter": "python",
   "pygments_lexer": "ipython2",
   "version": "2.7.12"
  }
 },
 "nbformat": 4,
 "nbformat_minor": 2
}
