{
 "cells": [
  {
   "cell_type": "code",
   "execution_count": 3,
   "metadata": {
    "ExecuteTime": {
     "end_time": "2017-08-14T21:31:51.163132Z",
     "start_time": "2017-08-14T21:31:51.145863Z"
    },
    "run_control": {
     "frozen": false,
     "read_only": false
    }
   },
   "outputs": [
    {
     "name": "stdout",
     "output_type": "stream",
     "text": [
      "/home/bgx/.mega2/Desarrollo/github/radsa\n"
     ]
    }
   ],
   "source": [
    "DIR=%pwd\n",
    "%cd $DIR/radsa/"
   ]
  },
  {
   "cell_type": "code",
   "execution_count": 4,
   "metadata": {
    "ExecuteTime": {
     "end_time": "2017-08-14T21:31:53.407180Z",
     "start_time": "2017-08-14T21:31:53.380334Z"
    },
    "code_folding": [
     20
    ],
    "run_control": {
     "frozen": false,
     "read_only": false
    }
   },
   "outputs": [
    {
     "name": "stdout",
     "output_type": "stream",
     "text": [
      "Overwriting dataproc-cuda.py\n"
     ]
    }
   ],
   "source": [
    "%%writefile dataproc-cuda.py\n",
    "\n",
    "# Antena Data Processor \n",
    "import numpy as np\n",
    "import sys\n",
    "import argparse\n",
    "from bitarray import bitarray\n",
    "from libradsa import *\n",
    "\n",
    "#CUDA packages\n",
    "import pycuda.driver as cuda\n",
    "import pycuda.autoinit\n",
    "import pycuda.gpuarray as gpuarray\n",
    "from pycuda.compiler import SourceModule\n",
    "import pycuda.driver as drv\n",
    "from pycuda import cumath\n",
    "import numpy as np\n",
    "import skcuda.linalg as linalg\n",
    "import skcuda.misc as misc\n",
    "import ctypes\n",
    "\n",
    "\n",
    "def main(args):\n",
    "    qbits=args.qbits\n",
    "    \n",
    "    datastream = bitarray()\n",
    "    if args.infile:\n",
    "        with args.infile as f:\n",
    "            datastream.fromfile(f)\n",
    "    \n",
    "    ## Read data\n",
    "    chl0,chl1,chl2,chl3=demux(datastream)\n",
    "    \n",
    "    if qbits == 1:\n",
    "        decode1bit()\n",
    "    elif qbits == 2:\n",
    "        CH0,CH1,CH2,CH3=decode2bit(chl0,chl1,chl2,chl3)\n",
    "    elif qbits == 4:\n",
    "        CH0,CH1,CH2,CH3=decode4bit(chl0,chl1,chl2,chl3)\n",
    "    elif qbits == 8:\n",
    "        CH0,CH1,CH2,CH3=decode8bit(chl0,chl1,chl2,chl3)\n",
    "    elif qbits == 16:\n",
    "        CH0,CH1,CH2,CH3=decode16bit(chl0,chl1,chl2,chl3)\n",
    "   \n",
    "\n",
    "\n",
    "\n",
    "    a = np.array([CH0.view(np.complex64).astype(np.complex128),\n",
    "         CH1.view(np.complex64).astype(np.complex128),\n",
    "         CH2.view(np.complex64).astype(np.complex128),\n",
    "         CH3.view(np.complex64).astype(np.complex128)])\n",
    "    \n",
    "    N = np.int32(a.shape[1])\n",
    "    \n",
    "    linalg.init()\n",
    "    x_gpu = gpuarray.to_gpu(a)\n",
    "    y_gpu = linalg.conj(x_gpu)\n",
    "    z_gpu = linalg.multiply(x_gpu, y_gpu)\n",
    "    x_gpu.gpudata.free()\n",
    "    y_gpu.gpudata.free()\n",
    "    RMS_gpu=cumath.sqrt(misc.sum(z_gpu,axis=1,keepdims=True)/N)\n",
    "    RMS=RMS_gpu.get()\n",
    "    RMS_gpu.gpudata.free()\n",
    "   \n",
    "    print args.infile.name,(RMS.real).flatten()\n",
    "    \n",
    "if __name__ == \"__main__\":\n",
    "\n",
    "    import time\n",
    "    start_time = time.time()\n",
    "    parser = argparse.ArgumentParser(description='Simulate antena data format.')\n",
    "    parser.add_argument('-q', dest='qbits', type=int, choices=[2,4,8,16],\n",
    "                        help=\"Bits quantization\", required=True)\n",
    "    parser.add_argument('-i', '--infile', dest='infile',type=argparse.FileType('r'),\n",
    "                        help='Read from IN_FILE the simulated data.', required=True)\n",
    "    args = parser.parse_args()\n",
    "    \n",
    "    main(args)\n",
    "    print(\"--- %s seconds ---\" % (time.time() - start_time))"
   ]
  },
  {
   "cell_type": "code",
   "execution_count": 3,
   "metadata": {
    "ExecuteTime": {
     "end_time": "2017-08-01T19:31:42.378803Z",
     "start_time": "2017-08-01T19:31:41.787474Z"
    },
    "run_control": {
     "frozen": false,
     "read_only": false
    }
   },
   "outputs": [
    {
     "name": "stdout",
     "output_type": "stream",
     "text": [
      "[-1  0  0  1 -1 -2 -1 -1]\n",
      "[ 0 -2  0 -1  0 -1  0 -1]\n",
      "[-1  0 -1 -1 -1 -2  0  0]\n",
      "[ 0 -1 -1 -1 -1 -2  0  0]\n"
     ]
    }
   ],
   "source": [
    "%run dataproc.py {'-q 2 -i simdata.bin'}"
   ]
  },
  {
   "cell_type": "code",
   "execution_count": 19,
   "metadata": {
    "ExecuteTime": {
     "end_time": "2017-08-07T19:29:14.028805Z",
     "start_time": "2017-08-07T19:29:13.741485Z"
    },
    "run_control": {
     "frozen": false,
     "read_only": false
    }
   },
   "outputs": [
    {
     "name": "stdout",
     "output_type": "stream",
     "text": [
      "1.04577e-06\n"
     ]
    }
   ],
   "source": [
    "import pycuda.driver as cuda\n",
    "import pycuda.gpuarray as gpuarray\n",
    "import pycuda.autoinit\n",
    "import numpy\n",
    "from pycuda.curandom import rand as curand\n",
    "\n",
    "a = (numpy.random.randn(400)\n",
    "        +1j*numpy.random.randn(400)).astype(numpy.complex64)\n",
    "\n",
    "a_gpu = gpuarray.to_gpu(a)\n",
    "\n",
    "from pycuda.elementwise import ElementwiseKernel\n",
    "complex_mul = ElementwiseKernel(\n",
    "        \"pycuda::complex<float> *x, pycuda::complex<float> *y, pycuda::complex<float> *z\",\n",
    "        \"z[i] = x[i] * y[i]\",\n",
    "        \"complex_mul\",\n",
    "        preamble=\"#include <pycuda-complex.hpp>\",)\n",
    "\n",
    "c_gpu = gpuarray.empty_like(a_gpu)\n",
    "complex_mul(a_gpu,a_gpu, c_gpu)\n",
    "\n",
    "import numpy.linalg as la\n",
    "error = la.norm(c_gpu.get() - (a*a))\n",
    "print error\n",
    "assert error < 1e-5\n"
   ]
  },
  {
   "cell_type": "code",
   "execution_count": 19,
   "metadata": {
    "ExecuteTime": {
     "end_time": "2017-08-08T13:57:05.701947Z",
     "start_time": "2017-08-08T13:57:05.363242Z"
    },
    "run_control": {
     "frozen": false,
     "read_only": false
    }
   },
   "outputs": [
    {
     "name": "stdout",
     "output_type": "stream",
     "text": [
      "[[ 1.+1.j  2.-2.j  3.+3.j  4.-4.j]\n",
      " [ 5.+5.j  6.-6.j  7.+7.j  8.-8.j]]\n",
      "[[ 1.-1.j  2.+2.j  3.-3.j  4.+4.j]\n",
      " [ 5.-5.j  6.+6.j  7.-7.j  8.+8.j]]\n",
      "[[ 1.+1.j  2.-2.j  3.+3.j  4.-4.j]\n",
      " [ 5.+5.j  6.-6.j  7.+7.j  8.-8.j]]\n",
      "[[ 1.-1.j  2.+2.j  3.-3.j  4.+4.j]\n",
      " [ 5.-5.j  6.+6.j  7.-7.j  8.+8.j]]\n",
      "[[   2.+0.j    8.+0.j   18.+0.j   32.+0.j]\n",
      " [  50.+0.j   72.+0.j   98.+0.j  128.+0.j]]\n",
      "[[   2.+0.j    8.+0.j   18.+0.j   32.+0.j]\n",
      " [  50.+0.j   72.+0.j   98.+0.j  128.+0.j]]\n"
     ]
    },
    {
     "data": {
      "text/plain": [
       "True"
      ]
     },
     "execution_count": 19,
     "metadata": {},
     "output_type": "execute_result"
    }
   ],
   "source": [
    "import pycuda.driver as drv\n",
    "import pycuda.gpuarray as gpuarray\n",
    "import pycuda.autoinit\n",
    "import numpy as np\n",
    "import skcuda.linalg as linalg\n",
    "import ctypes\n",
    "\n",
    "# ctypes.CDLL('libgomp.so.1', mode=ctypes.RTLD_GLOBAL)\n",
    "# ctypes.cdll.LoadLibrary('libcusolver.so')\n",
    "\n",
    "linalg.init()\n",
    "x = np.array([[1+1j, 2-2j, 3+3j, 4-4j], [5+5j, 6-6j, 7+7j, 8-8j]], np.complex64)\n",
    "x_gpu = gpuarray.to_gpu(x)\n",
    "y_gpu = linalg.conj(x_gpu)\n",
    "\n",
    "print x\n",
    "y=np.conjugate(x)\n",
    "print y\n",
    "print x_gpu\n",
    "print y_gpu\n",
    "\n",
    "z_gpu = linalg.multiply(x_gpu, y_gpu)\n",
    "print z_gpu\n",
    "z=x*y\n",
    "print z\n",
    "np.all(x == np.conj(y_gpu.get()))"
   ]
  },
  {
   "cell_type": "code",
   "execution_count": null,
   "metadata": {
    "collapsed": true,
    "run_control": {
     "frozen": false,
     "read_only": false
    }
   },
   "outputs": [],
   "source": []
  }
 ],
 "metadata": {
  "kernelspec": {
   "display_name": "Python 2",
   "language": "python",
   "name": "python2"
  },
  "language_info": {
   "codemirror_mode": {
    "name": "ipython",
    "version": 2
   },
   "file_extension": ".py",
   "mimetype": "text/x-python",
   "name": "python",
   "nbconvert_exporter": "python",
   "pygments_lexer": "ipython2",
   "version": "2.7.12"
  }
 },
 "nbformat": 4,
 "nbformat_minor": 2
}
