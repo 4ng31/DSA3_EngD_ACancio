{
 "cells": [
  {
   "cell_type": "code",
   "execution_count": 2,
   "metadata": {
    "ExecuteTime": {
     "end_time": "2017-09-28T17:30:36.422014Z",
     "start_time": "2017-09-28T17:30:36.417109Z"
    },
    "run_control": {
     "frozen": false,
     "read_only": false
    }
   },
   "outputs": [
    {
     "name": "stdout",
     "output_type": "stream",
     "text": [
      "/home/taller-dis1/Angel/new_process/github/radsa/bin\n"
     ]
    }
   ],
   "source": [
    "%cd ../bin\n"
   ]
  },
  {
   "cell_type": "code",
   "execution_count": 4,
   "metadata": {
    "ExecuteTime": {
     "end_time": "2017-09-28T17:31:17.948343Z",
     "start_time": "2017-09-28T17:31:17.942556Z"
    },
    "run_control": {
     "frozen": false,
     "read_only": false
    }
   },
   "outputs": [
    {
     "name": "stdout",
     "output_type": "stream",
     "text": [
      "Overwriting ../bin/dataproc.py\n"
     ]
    }
   ],
   "source": [
    "%%writefile ../bin/dataproc.py\n",
    "\n",
    "# Antena Data Processor \n",
    "import numpy as np\n",
    "import sys\n",
    "import argparse\n",
    "from bitarray import bitarray\n",
    "from libradsa import *\n",
    "\n",
    "#CUDA packages\n",
    "import pycuda.driver as cuda\n",
    "import pycuda.autoinit\n",
    "from pycuda.compiler import SourceModule\n",
    "\n",
    "\n",
    "def main(args):\n",
    "    qbits=args.qbits\n",
    "    \n",
    "    datastream = bitarray()\n",
    "    if args.infile:\n",
    "        with args.infile as f:\n",
    "            datastream.fromfile(f)\n",
    "    \n",
    "    ## Read data\n",
    "    chl0,chl1,chl2,chl3=demux(datastream)\n",
    "    \n",
    "    if qbits == 1:\n",
    "        decode1bit()\n",
    "    elif qbits == 2:\n",
    "        CH0,CH1,CH2,CH3=decode2bit(chl0,chl1,chl2,chl3)\n",
    "    elif qbits == 4:\n",
    "        CH0,CH1,CH2,CH3=decode4bit(chl0,chl1,chl2,chl3)\n",
    "    elif qbits == 8:\n",
    "        CH0,CH1,CH2,CH3=decode8bit(chl0,chl1,chl2,chl3)\n",
    "    elif qbits == 16:\n",
    "        CH0,CH1,CH2,CH3=decode16bit(chl0,chl1,chl2,chl3)\n",
    "\n",
    "#     print CH0\n",
    "#     print CH1\n",
    "#     print CH2\n",
    "#     print CH3\n",
    "    \n",
    "    # a = numpy.random.randn(4,2)\n",
    "# a = a.astype(numpy.float32)\n",
    "# a_gpu = cuda.mem_alloc(a.size * a.dtype.itemsize)\n",
    "\n",
    "# cuda.memcpy_htod(a_gpu, a)\n",
    "\n",
    "# mod = SourceModule(\"\"\"\n",
    "#     __global__ void doublify(float *a)\n",
    "#     {\n",
    "#       int idx = threadIdx.x + threadIdx.y*4;\n",
    "#       a[idx] *= 2;\n",
    "#     }\n",
    "#     \"\"\")\n",
    "\n",
    "# func = mod.get_function(\"doublify\")\n",
    "# func(a_gpu, block=(4,4,1))\n",
    "\n",
    "# a_doubled = numpy.empty_like(a)\n",
    "# cuda.memcpy_dtoh(a_doubled, a_gpu)\n",
    "# print \"original array:\"\n",
    "# print a\n",
    "# print \"doubled with kernel:\"\n",
    "# print a_doubled\n",
    "        \n",
    "if __name__ == \"__main__\":\n",
    "\n",
    "    parser = argparse.ArgumentParser(description='Simulate antena data format.')\n",
    "    parser.add_argument('-q', dest='qbits', type=int, choices=[2,4,8,16],\n",
    "                        help=\"Bits quantization\", required=True)\n",
    "    parser.add_argument('-i', '--infile', dest='infile',type=argparse.FileType('r'),\n",
    "                        help='Read from IN_FILE the simulated data.', required=True)\n",
    "    args = parser.parse_args()\n",
    "    \n",
    "    main(args)"
   ]
  },
  {
   "cell_type": "code",
   "execution_count": 3,
   "metadata": {
    "ExecuteTime": {
     "end_time": "2017-08-01T19:31:42.378803Z",
     "start_time": "2017-08-01T19:31:41.787474Z"
    },
    "run_control": {
     "frozen": false,
     "read_only": false
    }
   },
   "outputs": [
    {
     "name": "stdout",
     "output_type": "stream",
     "text": [
      "[-1  0  0  1 -1 -2 -1 -1]\n",
      "[ 0 -2  0 -1  0 -1  0 -1]\n",
      "[-1  0 -1 -1 -1 -2  0  0]\n",
      "[ 0 -1 -1 -1 -1 -2  0  0]\n"
     ]
    }
   ],
   "source": [
    "%run dataproc.py {'-q 2 -i simdata.bin'}"
   ]
  },
  {
   "cell_type": "code",
   "execution_count": null,
   "metadata": {
    "collapsed": true,
    "run_control": {
     "frozen": false,
     "read_only": false
    }
   },
   "outputs": [],
   "source": []
  }
 ],
 "metadata": {
  "kernelspec": {
   "display_name": "Python 2",
   "language": "python",
   "name": "python2"
  },
  "language_info": {
   "codemirror_mode": {
    "name": "ipython",
    "version": 2
   },
   "file_extension": ".py",
   "mimetype": "text/x-python",
   "name": "python",
   "nbconvert_exporter": "python",
   "pygments_lexer": "ipython2",
   "version": "2.7.12"
  }
 },
 "nbformat": 4,
 "nbformat_minor": 2
}
