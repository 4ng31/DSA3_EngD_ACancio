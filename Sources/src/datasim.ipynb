{
 "cells": [
  {
   "cell_type": "code",
   "execution_count": 1,
   "metadata": {
    "ExecuteTime": {
     "end_time": "2017-08-23T12:55:32.333821Z",
     "start_time": "2017-08-23T12:55:32.296816Z"
    },
    "run_control": {
     "frozen": false,
     "read_only": false
    }
   },
   "outputs": [
    {
     "name": "stdout",
     "output_type": "stream",
     "text": [
      "Overwriting datasim.py\n"
     ]
    }
   ],
   "source": [
    "%%writefile datasim.py\n",
    "\n",
    "# Antena Data format simulator \n",
    "import numpy as np\n",
    "import sys\n",
    "import argparse\n",
    "\n",
    "from bitarray import bitarray\n",
    "from multiprocessing.dummy import Pool as ThreadPool\n",
    "from functools import partial\n",
    "\n",
    "from libradsa import * \n",
    "\n",
    "def roundup(nsamples,qbits):\n",
    "    \"\"\"Round number of bits for IQ data fill a byte (nearest multiple)\n",
    "    \n",
    "    Notes\n",
    "    =====\n",
    "    @param nsamples : number of pairs IQ\n",
    "           qbits : data quantization bits, allowed 2, 4, 8, 16\n",
    "    \"\"\"\n",
    "    n = nsamples*qbits\n",
    "    m = 8\n",
    "    a=((n + m - 1) / m) * m \n",
    "    return a\n",
    "\n",
    "def channel(qbits,npairs):\n",
    "    \"\"\"Generate IQ bits data\n",
    "    \n",
    "    Notes\n",
    "    =====\n",
    "    @param qbits :  data quantization bits, allowed 2, 4, 8, 16\n",
    "           npairs : Number of pairs IQ\n",
    "    \"\"\"\n",
    "    if qbits in [2, 4, 8, 16]:\n",
    "        nsamples = npairs\n",
    "        maxim=(2**(qbits-1))\n",
    "        minim=-1*(2**(qbits-1))\n",
    "        \n",
    "        bitsamples = roundup(nsamples,qbits)\n",
    "        nsamples = bitsamples/qbits\n",
    "        \n",
    "        IQ=np.random.randint(minim,maxim,nsamples,dtype='int16')\n",
    "        aux=IQ.view(dtype='uint16')\n",
    "        del IQ\n",
    "        d=[('0000000000000000'+bin(xi)[2:])[-qbits:] for xi in aux]\n",
    "        del aux\n",
    "        a=bitarray(''.join(d))\n",
    "        del d\n",
    "    else:\n",
    "        raise TypeError('Please set quantization bits to 2,4,8 or 16')\n",
    "        \n",
    "    return a   \n",
    "\n",
    "def main(args):\n",
    "    qbits=args.qbits\n",
    "    npairs=args.nsamples*2\n",
    "    \n",
    "    if args.test:\n",
    "        npairs=4*2\n",
    "    \n",
    "    #If npair > 1e6 chunck\n",
    "    N=int(npairs/1e6)\n",
    "    R=int(npairs%1e6)\n",
    "    \n",
    "    print \"Number of chunks\",N\n",
    "    print \"Last chunk\",R\n",
    "    \n",
    "    \n",
    "    for i in range(0, N):\n",
    "        ## Create data\n",
    "        pool = ThreadPool(4) \n",
    "        iterable = [ int(1e6), int(1e6), int(1e6), int(1e6)]\n",
    "        func = partial(channel, qbits)\n",
    "        result = pool.map(func, iterable)\n",
    "        datastream=mux(result[0],result[1],result[2],result[3])\n",
    "        del result\n",
    "        print 'datastream length',datastream.length()\n",
    "        if args.outfile:\n",
    "            with open(args.outfile, 'a') as f:\n",
    "                datastream.tofile(f)\n",
    "                \n",
    "    \n",
    "    ## Create data\n",
    "    pool = ThreadPool(4) \n",
    "    iterable = [ R, R, R, R]\n",
    "    func = partial(channel, qbits)\n",
    "    result = pool.map(func, iterable)\n",
    "    datastream=mux(result[0],result[1],result[2],result[3])\n",
    "    del result\n",
    "    print 'datastream length',datastream.length()\n",
    "    if args.outfile:\n",
    "        with open(args.outfile, 'a') as f:\n",
    "            datastream.tofile(f)\n",
    "            \n",
    "if __name__ == \"__main__\":\n",
    "\n",
    "    parser = argparse.ArgumentParser(description='Simulate antena data format.')\n",
    "    parser.add_argument('-q', dest='qbits', type=int, choices=[2,4,8,16],\n",
    "                        help=\"Bits quantization\", required=True)\n",
    "    parser.add_argument('-n', dest='nsamples', type=int,\n",
    "                        help='Numdeb of IQ pairs (samples*2)', required=True)\n",
    "    parser.add_argument('-o', '--outfile', dest='outfile',type=str,\n",
    "                        help='Write to OUT_FILE the simulated data.', required=True)\n",
    "    parser.add_argument('-t', '--test', dest='test',type=str,\n",
    "                        help='Print 4 samples pairs', required=False)\n",
    "    \n",
    "    args = parser.parse_args()\n",
    "    \n",
    "    main(args)\n"
   ]
  },
  {
   "cell_type": "code",
   "execution_count": null,
   "metadata": {
    "collapsed": true
   },
   "outputs": [],
   "source": []
  },
  {
   "cell_type": "code",
   "execution_count": 7,
   "metadata": {
    "ExecuteTime": {
     "end_time": "2017-08-02T14:50:50.587287Z",
     "start_time": "2017-08-02T14:50:50.555365Z"
    },
    "collapsed": true,
    "run_control": {
     "frozen": false,
     "read_only": false
    }
   },
   "outputs": [
    {
     "name": "stderr",
     "output_type": "stream",
     "text": [
      "usage: __main__.py [-h]\n",
      "__main__.py: error: unrecognized arguments: -q 2 -n 4 -o simdata.bin\n"
     ]
    },
    {
     "ename": "SystemExit",
     "evalue": "2",
     "output_type": "error",
     "traceback": [
      "An exception has occurred, use %tb to see the full traceback.\n",
      "\u001b[0;31mSystemExit\u001b[0m\u001b[0;31m:\u001b[0m 2\n"
     ]
    }
   ],
   "source": [
    "\n"
   ]
  },
  {
   "cell_type": "code",
   "execution_count": null,
   "metadata": {
    "collapsed": true,
    "run_control": {
     "frozen": false,
     "read_only": false
    }
   },
   "outputs": [],
   "source": []
  }
 ],
 "metadata": {
  "kernelspec": {
   "display_name": "Python 2",
   "language": "python",
   "name": "python2"
  },
  "language_info": {
   "codemirror_mode": {
    "name": "ipython",
    "version": 2
   },
   "file_extension": ".py",
   "mimetype": "text/x-python",
   "name": "python",
   "nbconvert_exporter": "python",
   "pygments_lexer": "ipython2",
   "version": "2.7.12"
  }
 },
 "nbformat": 4,
 "nbformat_minor": 2
}
