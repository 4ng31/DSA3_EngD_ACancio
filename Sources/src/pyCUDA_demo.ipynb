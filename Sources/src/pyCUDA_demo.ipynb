{
 "cells": [
  {
   "cell_type": "code",
   "execution_count": null,
   "metadata": {
    "ExecuteTime": {
     "end_time": "2017-09-04T13:55:06.323193Z",
     "start_time": "2017-09-04T13:55:05.563377Z"
    }
   },
   "outputs": [],
   "source": [
    "import pycuda.gpuarray as gpuarray\n",
    "import pycuda.autoinit\n",
    "\n",
    "from pycuda.elementwise import ElementwiseKernel\n",
    "\n",
    "# define elementwise `add()` function\n",
    "add = ElementwiseKernel(\n",
    "        \"float *a, float *b, float *c\",\n",
    "        \"c[i] = a[i] + b[i]\",\n",
    "        \"add\")\n",
    "\n",
    "# create a couple of random matrices with a given shape\n",
    "from pycuda.curandom import rand as curand\n",
    "shape = 128, 1024\n",
    "a_gpu = curand(shape)\n",
    "b_gpu = curand(shape)\n",
    "\n",
    "print a_gpu\n",
    "print b_gpu\n",
    "\n",
    "# compute sum on a gpu\n",
    "c_gpu = gpuarray.empty_like(a_gpu)\n",
    "add(a_gpu, b_gpu, c_gpu)\n",
    "print c_gpu\n",
    "\n",
    "# check the result\n",
    "import numpy.linalg as la\n",
    "print (c_gpu - (a_gpu + b_gpu))\n",
    "assert la.norm((c_gpu - (a_gpu + b_gpu)).get()) < 1e-5"
   ]
  },
  {
   "cell_type": "code",
   "execution_count": 5,
   "metadata": {
    "ExecuteTime": {
     "end_time": "2017-09-04T18:13:01.064452Z",
     "start_time": "2017-09-04T18:13:00.720165Z"
    }
   },
   "outputs": [
    {
     "name": "stdout",
     "output_type": "stream",
     "text": [
      "[[ 1.  2.]\n",
      " [ 2.  1.]\n",
      " [ 1.  0.]\n",
      " [ 0.  1.]]\n",
      "[[ 1.  4.]\n",
      " [ 4.  1.]\n",
      " [ 1.  0.]\n",
      " [ 0.  1.]]\n",
      "[[ 0.]\n",
      " [ 0.]\n",
      " [ 0.]\n",
      " [ 0.]]\n",
      "[[ 5.]\n",
      " [ 5.]\n",
      " [ 1.]\n",
      " [ 1.]]\n"
     ]
    }
   ],
   "source": [
    "import pycuda.gpuarray as gpuarray\n",
    "import pycuda.autoinit\n",
    "import numpy as np\n",
    "import skcuda.misc as misc\n",
    "from pycuda.elementwise import ElementwiseKernel\n",
    "\n",
    "# define elementwise `square()` function\n",
    "square = ElementwiseKernel(\n",
    "        \"float *a, float *b\",\n",
    "        \"b[i] = a[i]*a[i]\",\n",
    "        \"square\")\n",
    "\n",
    "misc.init()\n",
    "\n",
    "# create a couple of random matrices with a given shape\n",
    "# from pycuda.curandom import rand as curand\n",
    "# shape = 8, 16\n",
    "# a_gpu = curand(shape)\n",
    "dt1=np.dtype(np.float32)\n",
    "a_gpu=gpuarray.to_gpu(np.array([[ 1., 2. ],[ 2., 1. ],[ 1., 0. ],[ 0., 1. ]], dtype=dt1))\n",
    "print a_gpu\n",
    "\n",
    "# compute sum on a gpu\n",
    "b_gpu = gpuarray.empty_like(a_gpu)\n",
    "square(a_gpu, b_gpu)\n",
    "print b_gpu\n",
    "\n",
    "gpu_sum = gpuarray.to_gpu(np.array([[ 0. ],[ 0. ],[ 0. ],[ 0. ]], dtype=dt1))\n",
    "print gpu_sum\n",
    "\n",
    "gpu_sum=misc.sum(b_gpu,axis=1,keepdims=True)\n",
    "\n",
    "print gpu_sum\n",
    "\n"
   ]
  },
  {
   "cell_type": "code",
   "execution_count": null,
   "metadata": {
    "collapsed": true
   },
   "outputs": [],
   "source": []
  }
 ],
 "metadata": {
  "kernelspec": {
   "display_name": "Python 2",
   "language": "python",
   "name": "python2"
  },
  "language_info": {
   "codemirror_mode": {
    "name": "ipython",
    "version": 2
   },
   "file_extension": ".py",
   "mimetype": "text/x-python",
   "name": "python",
   "nbconvert_exporter": "python",
   "pygments_lexer": "ipython2",
   "version": "2.7.12"
  }
 },
 "nbformat": 4,
 "nbformat_minor": 2
}
