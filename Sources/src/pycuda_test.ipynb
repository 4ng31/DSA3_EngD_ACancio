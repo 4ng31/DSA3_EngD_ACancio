{
 "cells": [
  {
   "cell_type": "code",
   "execution_count": 1,
   "metadata": {
    "ExecuteTime": {
     "end_time": "2017-07-28T17:33:45.252496Z",
     "start_time": "2017-07-28T17:33:41.371687Z"
    },
    "run_control": {
     "frozen": false,
     "read_only": false
    }
   },
   "outputs": [
    {
     "name": "stdout",
     "output_type": "stream",
     "text": [
      "[[ 0.25978142  0.65854823]\n",
      " [ 0.86870172 -0.90911217]\n",
      " [ 0.08670676  2.88062448]\n",
      " [ 2.34701272  0.32660132]]\n",
      "original array:\n",
      "[[ 0.25978142  0.65854824]\n",
      " [ 0.8687017  -0.90911216]\n",
      " [ 0.08670676  2.88062453]\n",
      " [ 2.34701276  0.32660133]]\n",
      "doubled with kernel:\n",
      "[[ 0.51956284  1.31709647]\n",
      " [ 1.73740339 -1.81822431]\n",
      " [ 0.17341352  5.76124907]\n",
      " [ 4.69402552  0.65320265]]\n",
      "doubled with InOut:\n",
      "[[ 0.51956284  1.31709647]\n",
      " [ 1.73740339 -1.81822431]\n",
      " [ 0.17341352  5.76124907]\n",
      " [ 4.69402552  0.65320265]]\n",
      "original array:\n",
      "[[ 0.51956284  1.31709647]\n",
      " [ 1.73740339 -1.81822431]\n",
      " [ 0.17341352  5.76124907]\n",
      " [ 4.69402552  0.65320265]]\n",
      "doubled with gpuarray:\n",
      "[[  1.03912568   2.63419294]\n",
      " [  3.47480679  -3.63644862]\n",
      " [  0.34682703  11.52249813]\n",
      " [  9.38805103   1.30640531]]\n"
     ]
    }
   ],
   "source": [
    "#!python\n",
    "# Sample source code from the Tutorial Introduction in the documentation.\n",
    "\n",
    "import pycuda.driver as cuda\n",
    "import pycuda.autoinit\n",
    "from pycuda.compiler import SourceModule\n",
    "\n",
    "import numpy\n",
    "a = numpy.random.randn(4,2)\n",
    "print a\n",
    "\n",
    "a = a.astype(numpy.float32)\n",
    "\n",
    "a_gpu = cuda.mem_alloc(a.size * a.dtype.itemsize)\n",
    "\n",
    "cuda.memcpy_htod(a_gpu, a)\n",
    "\n",
    "mod = SourceModule(\"\"\"\n",
    "    __global__ void doublify(float *a)\n",
    "    {\n",
    "      int idx = threadIdx.x + threadIdx.y*4;\n",
    "      a[idx] *= 2;\n",
    "    }\n",
    "    \"\"\")\n",
    "\n",
    "func = mod.get_function(\"doublify\")\n",
    "func(a_gpu, block=(4,4,1))\n",
    "\n",
    "a_doubled = numpy.empty_like(a)\n",
    "cuda.memcpy_dtoh(a_doubled, a_gpu)\n",
    "print \"original array:\"\n",
    "print a\n",
    "print \"doubled with kernel:\"\n",
    "print a_doubled\n",
    "\n",
    "# alternate kernel invocation -------------------------------------------------\n",
    "\n",
    "func(cuda.InOut(a), block=(4, 4, 1))\n",
    "print \"doubled with InOut:\"\n",
    "print a\n",
    "\n",
    "# part 2 ----------------------------------------------------------------------\n",
    "\n",
    "import pycuda.gpuarray as gpuarray\n",
    "#a_gpu = gpuarray.to_gpu(numpy.random.randn(4,4).astype(numpy.float32))\n",
    "a_gpu = gpuarray.to_gpu(a)\n",
    "a_doubled = (2*a_gpu).get()\n",
    "\n",
    "print \"original array:\"\n",
    "print a_gpu\n",
    "print \"doubled with gpuarray:\"\n",
    "print a_doubled"
   ]
  },
  {
   "cell_type": "code",
   "execution_count": 8,
   "metadata": {
    "ExecuteTime": {
     "end_time": "2017-08-04T19:01:18.644963Z",
     "start_time": "2017-08-04T19:01:18.637947Z"
    },
    "run_control": {
     "frozen": false,
     "read_only": false
    }
   },
   "outputs": [
    {
     "name": "stdout",
     "output_type": "stream",
     "text": [
      "/home/taller-dis1/Angel/new_process/github/radsa\n"
     ]
    }
   ],
   "source": [
    "\n"
   ]
  },
  {
   "cell_type": "code",
   "execution_count": null,
   "metadata": {
    "collapsed": true
   },
   "outputs": [],
   "source": []
  }
 ],
 "metadata": {
  "kernelspec": {
   "display_name": "Python 2",
   "language": "python",
   "name": "python2"
  },
  "language_info": {
   "codemirror_mode": {
    "name": "ipython",
    "version": 2
   },
   "file_extension": ".py",
   "mimetype": "text/x-python",
   "name": "python",
   "nbconvert_exporter": "python",
   "pygments_lexer": "ipython2",
   "version": "2.7.12"
  }
 },
 "nbformat": 4,
 "nbformat_minor": 2
}
