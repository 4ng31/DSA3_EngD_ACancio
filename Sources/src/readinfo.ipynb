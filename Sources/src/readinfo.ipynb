{
 "cells": [
  {
   "cell_type": "code",
   "execution_count": 3,
   "metadata": {
    "ExecuteTime": {
     "end_time": "2017-09-14T18:19:39.124745Z",
     "start_time": "2017-09-14T18:19:39.078053Z"
    }
   },
   "outputs": [
    {
     "name": "stdout",
     "output_type": "stream",
     "text": [
      "/home/bgx/.mega2/Desarrollo/github/radsa\n"
     ]
    }
   ],
   "source": [
    "%cd /home/bgx/.mega2/Desarrollo/github/radsa"
   ]
  },
  {
   "cell_type": "code",
   "execution_count": 31,
   "metadata": {
    "ExecuteTime": {
     "end_time": "2017-09-14T20:55:38.684559Z",
     "start_time": "2017-09-14T20:55:38.661830Z"
    }
   },
   "outputs": [
    {
     "name": "stdout",
     "output_type": "stream",
     "text": [
      "Overwriting readinfo.py\n"
     ]
    }
   ],
   "source": [
    "%%writefile readinfo.py\n",
    "import argparse\n",
    "import os,sys\n",
    "import mmap\n",
    "import struct\n",
    "import numpy as np\n",
    "from bitstring import BitStream, ConstBitStream,Bits\n",
    "from bitstring import BitArray as bt\n",
    "from bitarray import bitarray as BitArray\n",
    "\n",
    "def readheader(BS,hprint=None):\n",
    "    b = BitStream('0x'+''.join(x.encode('hex') for x in struct.unpack('>76s',BS)))\n",
    "    magic = b.read(32).hex# 32 magic word\n",
    "    header = {}\n",
    "    header[\"recordlength\"] = b.read(16).uint   # 16 0..65535\n",
    "    header[\"hdrlen\"] = b.read(8).uint    # 8 0..255\n",
    "    header[\"blocksize\"] = b.read(8).uint   # 8 0..25\n",
    "    header[\"samplerate\"] = b.read(16).uint   # 16 0..65535\n",
    "    header[\"efegain\"] = b.read(10).uint   # 10 0..650\n",
    "    header[\"qu\"] = b.read(3).uint    # 16 0..7 (0=>1bits,1=>2bits,2=>4bits,4=>8bits,5=>16bits, 3,6,7 spare)\n",
    "    header[\"msg\"] = b.read(3).uint    # 3 6\n",
    "    header[\"frameid\"] = b.read(32).uint  # 32 0..4294967295\n",
    "    header[\"version\"] = b.read(7).uint    # 7 0..127\n",
    "    header[\"timetag_samps\"] = b.read(25).uint   # 25 0..17499999\n",
    "    header[\"offsetfreq\"] = b.read(32).int   # 32 0..4294967295\n",
    "    header[\"timetag_secs\"] = b.read(17).uint   # 17 0..86399\n",
    "    header[\"subc\"] = b.read(4).uint    # 4 0..16\n",
    "    header[\"digitalgain\"] = b.read(11).uint   # 11 0..2047\n",
    "    header[\"subchan0_offset\"] = b.read(32).int    # 32 -2147483647..+2147483647\n",
    "    header[\"subchan1_offset\"] = b.read(32).int    # 32 -2147483647..+2147483647\n",
    "    header[\"subchan2_offset\"] = b.read(32).int    # 32 -2147483647..+2147483647\n",
    "    header[\"subchan3_offset\"] = b.read(32).int    # 32 -2147483647..+2147483647\n",
    "    header[\"sweeprate\"] = b.read(32).int    # 32 -2147483647..+2147483647\n",
    "    header[\"path_delay\"] = b.read(32).int    # 32 0..2^32-1\n",
    "    header[\"gdspid\"] = b.read(8).uint    # 1 0..1\n",
    "    header[\"hs\"] = b.read(1).uint    # 1 0..1\n",
    "    header[\"semr\"] = b.read(12).int    # 12\n",
    "    header[\"sweepchange\"] = b.read(11).uint   # 11 0..2047\n",
    "    header[\"ncov\"] = b.read(1).uint    # 1 0..1\n",
    "    header[\"ncoreset_c\"] = b.read(11).int    # 11 -1024..+1024\n",
    "    header[\"ncoreset_t\"] = b.read(20).uint   # 20 0..863999\n",
    "    b.read(128).uint    # 128 Empty\n",
    "    \n",
    "    if hprint:\n",
    "        #print header\n",
    "        print yaml.dump(header, default_flow_style=False)\n",
    "    \n",
    "    return header\n",
    "\n",
    "def bymmap(INFILE,IFMS):\n",
    "    SIZE = os.stat(INFILE).st_size\n",
    "    print SIZE\n",
    "    BYTES=1468\n",
    "    SKIP=76\n",
    "    \n",
    "    print('RFCH0,RFCH1,RFCH2,RFCH3')\n",
    "    with open(INFILE, 'rb') as fd:\n",
    "        mm = mmap.mmap(fd.fileno(), 0, prot=mmap.PROT_READ)\n",
    "        for offset in range(0, SIZE, BYTES):\n",
    "#             print offset, offset+SKIP\n",
    "            # Read Header (check cuantization and save timestamp)\n",
    "            header = readheader(mm[offset:offset+SKIP],hprint=False)\n",
    "#             print header[\"efegain\"],header[\"digitalgain\"]\n",
    "#             time=header[\"timetag_secs\"]+header[\"timetag_samps\"]*1./17.5e6-header[\"path_delay\"]*1./35e6\n",
    "            \n",
    "            if IFMS in ('1'):\n",
    "                FreqDnlkConv = 8379400000.0  # Hz\n",
    "            if IFMS in ('2'):\n",
    "                FreqDnlkConv = 8379800000.0\n",
    "            if IFMS in ('3'):\n",
    "                FreqDnlkConv = 8380200000.0\n",
    "                \n",
    "            EolpSubC0FreqOffs  = -100000.0  # Hz\n",
    "            EolpSubC1FreqOffs  = 0.0  # Hz\n",
    "            EolpSubC2FreqOffs  = 100000.0  # Hz\n",
    "            EolpSubC3FreqOffs  = 200000.0  # Hz\n",
    "            conv=float(35e6/2**32)\n",
    "            IF0=70000000.0+float(header[\"offsetfreq\"])*conv+float(header[\"subchan0_offset\"])*conv\n",
    "            IF1=70000000.0+float(header[\"offsetfreq\"])*conv+float(header[\"subchan1_offset\"])*conv\n",
    "            IF2=70000000.0+float(header[\"offsetfreq\"])*conv+float(header[\"subchan2_offset\"])*conv\n",
    "            IF3=70000000.0+float(header[\"offsetfreq\"])*conv+float(header[\"subchan3_offset\"])*conv\n",
    "\n",
    "#             print IF0,IF1,IF2,IF3\n",
    "            \n",
    "            RF0=IF0+FreqDnlkConv-EolpSubC0FreqOffs\n",
    "            RF1=IF1+FreqDnlkConv-EolpSubC0FreqOffs\n",
    "            RF2=IF2+FreqDnlkConv-EolpSubC0FreqOffs\n",
    "            RF3=IF3+FreqDnlkConv-EolpSubC0FreqOffs\n",
    "            \n",
    "\n",
    "    print RF0,RF1,RF2,RF3        \n",
    "    print 'Done'\n",
    "             \n",
    "\n",
    "def main(args):\n",
    "    bymmap(args.infile,args.ifms)\n",
    "            \n",
    "if __name__ == \"__main__\":\n",
    "\n",
    "    parser = argparse.ArgumentParser(description='Extract binary data, remove UDP headers')\n",
    "    parser.add_argument('-i','--infile', dest='infile', help='Path of a file', required=True)\n",
    "    parser.add_argument('-N','--ifmsN', dest='ifms', help='1, 2, or 3', required=True)\n",
    "    args = parser.parse_args()\n",
    "    \n",
    "    main(args)"
   ]
  },
  {
   "cell_type": "code",
   "execution_count": 32,
   "metadata": {
    "ExecuteTime": {
     "end_time": "2017-08-10T15:18:59.359879Z",
     "start_time": "2017-08-10T15:18:59.339145Z"
    }
   },
   "outputs": [
    {
     "name": "stdout",
     "output_type": "stream",
     "text": [
      "28\n",
      "0000111000011100001110000\n",
      "0000000011100001110000\n",
      "0000000000001110000\n",
      "0000000000000000\n"
     ]
    }
   ],
   "source": [
    "from bitstring import BitArray as bt\n",
    "\n",
    "a=bt(bin='1110000111000011100001110000')\n",
    "H=3\n",
    "R=4\n",
    "pkg=H+R\n",
    "print a.len\n",
    "for i in range(0,a.len/pkg):\n",
    "    del a[i*(R):i*(R)+H]\n",
    "    print a.bin"
   ]
  },
  {
   "cell_type": "code",
   "execution_count": null,
   "metadata": {
    "collapsed": true
   },
   "outputs": [],
   "source": []
  }
 ],
 "metadata": {
  "kernelspec": {
   "display_name": "Python 2",
   "language": "python",
   "name": "python2"
  },
  "language_info": {
   "codemirror_mode": {
    "name": "ipython",
    "version": 2
   },
   "file_extension": ".py",
   "mimetype": "text/x-python",
   "name": "python",
   "nbconvert_exporter": "python",
   "pygments_lexer": "ipython2",
   "version": "2.7.12"
  }
 },
 "nbformat": 4,
 "nbformat_minor": 2
}
