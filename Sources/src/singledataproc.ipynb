{
 "cells": [
  {
   "cell_type": "code",
   "execution_count": 2,
   "metadata": {
    "ExecuteTime": {
     "end_time": "2017-11-01T17:34:34.919362Z",
     "start_time": "2017-11-01T17:34:34.908337Z"
    },
    "run_control": {
     "frozen": false,
     "read_only": false
    }
   },
   "outputs": [
    {
     "name": "stdout",
     "output_type": "stream",
     "text": [
      "/home/bgx/.mega2/Desarrollo/github/radsa/bin\n"
     ]
    }
   ],
   "source": [
    "DIR=%pwd\n",
    "%cd $DIR/github/radsa/bin"
   ]
  },
  {
   "cell_type": "code",
   "execution_count": 18,
   "metadata": {
    "ExecuteTime": {
     "end_time": "2017-11-01T18:45:15.584434Z",
     "start_time": "2017-11-01T18:45:15.551417Z"
    },
    "code_folding": [
     20
    ],
    "run_control": {
     "frozen": false,
     "read_only": false
    }
   },
   "outputs": [
    {
     "name": "stdout",
     "output_type": "stream",
     "text": [
      "Overwriting singledataproc.py\n"
     ]
    }
   ],
   "source": [
    "%%writefile singledataproc.py\n",
    "\n",
    "# Antena Data Processor \n",
    "import numpy as np\n",
    "import sys,os\n",
    "import argparse\n",
    "from bitarray import bitarray\n",
    "import math\n",
    "from libradsa import *\n",
    "\n",
    "import multiprocessing\n",
    "from multiprocessing.dummy import Pool as ThreadPool\n",
    "from functools import partial\n",
    "\n",
    "import ctypes\n",
    "# ctypes.CDLL('libgomp.so.1', mode=ctypes.RTLD_GLOBAL)\n",
    "# ctypes.cdll.LoadLibrary('libcusolver.so')\n",
    "\n",
    "def readdeco(filename,qbits):\n",
    "    datastream = bitarray()\n",
    "    if filename:\n",
    "        with open(filename) as f:\n",
    "            datastream.fromfile(f)\n",
    "        \n",
    "    ## Read data\n",
    "    ## Should be improved\n",
    "    chl0,chl1,chl2,chl3=demux(datastream)\n",
    "    \n",
    "    if qbits == 2:\n",
    "        CH0,CH1,CH2,CH3=decode2bit(chl0,chl1,chl2,chl3)\n",
    "    elif qbits == 4:\n",
    "        CH0,CH1,CH2,CH3=decode4bit(chl0,chl1,chl2,chl3)\n",
    "    elif qbits == 8:\n",
    "        CH0,CH1,CH2,CH3=decode8bit(chl0,chl1,chl2,chl3)\n",
    "    elif qbits == 16:\n",
    "        CH0,CH1,CH2,CH3=decode16bit(chl0,chl1,chl2,chl3)    \n",
    "    \n",
    "    return CH0,CH1,CH2,CH3\n",
    "\n",
    "def main(args):\n",
    "    \n",
    "    result = np.array(readdeco(args.infileifms, args.qbits))\n",
    "#     print result\n",
    "    dt1=np.dtype(np.float32)\n",
    "    dt2=np.dtype(np.complex64)\n",
    "    \n",
    "    \n",
    "    a = np.array([result[0],\n",
    "                  result[1],\n",
    "                  result[2],\n",
    "                  result[3]])\n",
    "   \n",
    "    del result\n",
    "    \n",
    "    a=a.astype(dt1)\n",
    "    \n",
    "    ##Mapping    \n",
    "    if args.qbits == 2:\n",
    "        a=16384*a+8192\n",
    "    elif args.qbits == 4:\n",
    "        a=4096*a+2048\n",
    "    elif args.qbits == 8:\n",
    "        a=256*a+128\n",
    "    elif args.qbits == 16:\n",
    "        a=a+0.5\n",
    "    \n",
    "    a=a.view(dt2)\n",
    "#     print a.shape\n",
    "#     print a.nbytes\n",
    "    ### We have to split the numpy array in chunks to fit size similar to the GPU Device\n",
    "    A=a.nbytes\n",
    "    SIZE=2147483648 #2048 MBytes\n",
    "    nchunks=math.ceil(float(A)/SIZE)\n",
    "    \n",
    "    step=int(math.ceil(a.shape[1]/nchunks))\n",
    "    SUM=np.array([ 0.+0.j , 0.+0.j , 0.+0.j , 0+0.j ], dtype=dt2)\n",
    "    print SUM.shape\n",
    "    for i in range(0,int(a.shape[1]),step):\n",
    "        x = np.array(a[0::,0+i:i+step])\n",
    "        y=np.conjugate(x)\n",
    "        z=np.multiply(x,y)\n",
    "        del x\n",
    "        del y\n",
    "        thesum=np.sum(z, axis=1)\n",
    "        SUM=np.add(SUM,thesum)\n",
    "        del z\n",
    "        \n",
    "    N = np.int32((a[0].shape)[0])\n",
    "    RMS=np.sqrt(SUM.real/N)\n",
    "    IFMS=(\",%f\"*4)[1:] % tuple((RMS).flatten())\n",
    "    del RMS\n",
    "    del a\n",
    "    \n",
    "    string = os.path.basename(args.infileifms)+','+IFMS    \n",
    "    print string\n",
    "    \n",
    "    with open(args.outfile, 'aw') as file:\n",
    "        file.write(string)\n",
    "        file.write(\"\\n\")\n",
    "\n",
    "if __name__ == \"__main__\":\n",
    "    \n",
    "    import time\n",
    "    start_time = time.time()\n",
    "    \n",
    "    parser = argparse.ArgumentParser(description='Simulate antena data format.')\n",
    "    parser.add_argument('-q', dest='qbits', type=int, choices=[2,4,8,16],\n",
    "                        help=\"Bits quantization\", required=True)\n",
    "    parser.add_argument('-i', '--infileifms', dest='infileifms',\n",
    "                        help='Read from IN_FILE the simulated data.', required=True)\n",
    "    parser.add_argument('-o', '--outfile', dest='outfile',\n",
    "                        help='Write to OUT_FILE', required=True)\n",
    "    \n",
    "    args = parser.parse_args()\n",
    "    \n",
    "    main(args)\n",
    "    print(\"--- %s seconds ---\" % (time.time() - start_time))"
   ]
  },
  {
   "cell_type": "code",
   "execution_count": null,
   "metadata": {
    "collapsed": true
   },
   "outputs": [],
   "source": []
  }
 ],
 "metadata": {
  "kernelspec": {
   "display_name": "Python 2",
   "language": "python",
   "name": "python2"
  },
  "language_info": {
   "codemirror_mode": {
    "name": "ipython",
    "version": 2
   },
   "file_extension": ".py",
   "mimetype": "text/x-python",
   "name": "python",
   "nbconvert_exporter": "python",
   "pygments_lexer": "ipython2",
   "version": "2.7.12"
  }
 },
 "nbformat": 4,
 "nbformat_minor": 2
}
